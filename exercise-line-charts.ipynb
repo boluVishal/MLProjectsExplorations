{
 "cells": [
  {
   "cell_type": "markdown",
   "id": "c2d288b3",
   "metadata": {
    "papermill": {
     "duration": 0.018117,
     "end_time": "2022-01-29T15:47:17.747700",
     "exception": false,
     "start_time": "2022-01-29T15:47:17.729583",
     "status": "completed"
    },
    "tags": []
   },
   "source": [
    "**This notebook is an exercise in the [Data Visualization](https://www.kaggle.com/learn/data-visualization) course.  You can reference the tutorial at [this link](https://www.kaggle.com/alexisbcook/line-charts).**\n",
    "\n",
    "---\n"
   ]
  },
  {
   "cell_type": "markdown",
   "id": "6184d836",
   "metadata": {
    "papermill": {
     "duration": 0.016161,
     "end_time": "2022-01-29T15:47:17.781493",
     "exception": false,
     "start_time": "2022-01-29T15:47:17.765332",
     "status": "completed"
    },
    "tags": []
   },
   "source": [
    "In this exercise, you will use your new knowledge to propose a solution to a real-world scenario. To succeed, you will need to import data into Python, answer questions using the data, and generate **line charts** to understand patterns in the data.\n",
    "\n",
    "## Scenario\n",
    "\n",
    "You have recently been hired to manage the museums in the City of Los Angeles. Your first project focuses on the four museums pictured in the images below.\n",
    "\n",
    "![ex1_museums](https://i.imgur.com/pFYL8J1.png)\n",
    "\n",
    "You will leverage data from the Los Angeles [Data Portal](https://data.lacity.org/) that tracks monthly visitors to each museum.  \n",
    "\n",
    "![ex1_xlsx](https://i.imgur.com/mGWYlym.png)\n",
    "\n",
    "## Setup\n",
    "\n",
    "Run the next cell to import and configure the Python libraries that you need to complete the exercise."
   ]
  },
  {
   "cell_type": "code",
   "execution_count": 1,
   "id": "12a52c93",
   "metadata": {
    "execution": {
     "iopub.execute_input": "2022-01-29T15:47:17.819273Z",
     "iopub.status.busy": "2022-01-29T15:47:17.818061Z",
     "iopub.status.idle": "2022-01-29T15:47:18.922188Z",
     "shell.execute_reply": "2022-01-29T15:47:18.921536Z",
     "shell.execute_reply.started": "2022-01-29T15:23:38.816989Z"
    },
    "papermill": {
     "duration": 1.124299,
     "end_time": "2022-01-29T15:47:18.922362",
     "exception": false,
     "start_time": "2022-01-29T15:47:17.798063",
     "status": "completed"
    },
    "tags": []
   },
   "outputs": [
    {
     "name": "stdout",
     "output_type": "stream",
     "text": [
      "Setup Complete\n"
     ]
    }
   ],
   "source": [
    "import pandas as pd\n",
    "pd.plotting.register_matplotlib_converters()\n",
    "import matplotlib.pyplot as plt\n",
    "%matplotlib inline\n",
    "import seaborn as sns\n",
    "print(\"Setup Complete\")"
   ]
  },
  {
   "cell_type": "markdown",
   "id": "42bea5ba",
   "metadata": {
    "papermill": {
     "duration": 0.016803,
     "end_time": "2022-01-29T15:47:18.956571",
     "exception": false,
     "start_time": "2022-01-29T15:47:18.939768",
     "status": "completed"
    },
    "tags": []
   },
   "source": [
    "The questions below will give you feedback on your work. Run the following cell to set up the feedback system."
   ]
  },
  {
   "cell_type": "code",
   "execution_count": 2,
   "id": "c0cd78f3",
   "metadata": {
    "execution": {
     "iopub.execute_input": "2022-01-29T15:47:18.996970Z",
     "iopub.status.busy": "2022-01-29T15:47:18.996202Z",
     "iopub.status.idle": "2022-01-29T15:47:19.057263Z",
     "shell.execute_reply": "2022-01-29T15:47:19.056189Z",
     "shell.execute_reply.started": "2022-01-29T15:23:39.661757Z"
    },
    "papermill": {
     "duration": 0.08339,
     "end_time": "2022-01-29T15:47:19.057537",
     "exception": false,
     "start_time": "2022-01-29T15:47:18.974147",
     "status": "completed"
    },
    "tags": []
   },
   "outputs": [
    {
     "name": "stdout",
     "output_type": "stream",
     "text": [
      "Setup Complete\n"
     ]
    }
   ],
   "source": [
    "# Set up code checking\n",
    "import os\n",
    "if not os.path.exists(\"../input/museum_visitors.csv\"):\n",
    "    os.symlink(\"../input/data-for-datavis/museum_visitors.csv\", \"../input/museum_visitors.csv\") \n",
    "from learntools.core import binder\n",
    "binder.bind(globals())\n",
    "from learntools.data_viz_to_coder.ex2 import *\n",
    "print(\"Setup Complete\")"
   ]
  },
  {
   "cell_type": "markdown",
   "id": "cc586bd0",
   "metadata": {
    "papermill": {
     "duration": 0.016858,
     "end_time": "2022-01-29T15:47:19.092697",
     "exception": false,
     "start_time": "2022-01-29T15:47:19.075839",
     "status": "completed"
    },
    "tags": []
   },
   "source": [
    "## Step 1: Load the data\n",
    "\n",
    "Your first assignment is to read the LA Museum Visitors data file into `museum_data`.  Note that:\n",
    "- The filepath to the dataset is stored as `museum_filepath`.  Please **do not** change the provided value of the filepath.\n",
    "- The name of the column to use as row labels is `\"Date\"`.  (This can be seen in cell A1 when the file is opened in Excel.)\n",
    "\n",
    "To help with this, you may find it useful to revisit some relevant code from the tutorial, which we have pasted below:\n",
    "\n",
    "```python\n",
    "# Path of the file to read\n",
    "spotify_filepath = \"../input/spotify.csv\"\n",
    "\n",
    "# Read the file into a variable spotify_data\n",
    "spotify_data = pd.read_csv(spotify_filepath, index_col=\"Date\", parse_dates=True)\n",
    "```\n",
    "\n",
    "The code you need to write now looks very similar!"
   ]
  },
  {
   "cell_type": "code",
   "execution_count": 3,
   "id": "62c72161",
   "metadata": {
    "execution": {
     "iopub.execute_input": "2022-01-29T15:47:19.132628Z",
     "iopub.status.busy": "2022-01-29T15:47:19.131924Z",
     "iopub.status.idle": "2022-01-29T15:47:19.145599Z",
     "shell.execute_reply": "2022-01-29T15:47:19.146204Z",
     "shell.execute_reply.started": "2022-01-29T15:27:06.114349Z"
    },
    "papermill": {
     "duration": 0.036266,
     "end_time": "2022-01-29T15:47:19.146409",
     "exception": false,
     "start_time": "2022-01-29T15:47:19.110143",
     "status": "completed"
    },
    "tags": []
   },
   "outputs": [
    {
     "data": {
      "application/javascript": [
       "parent.postMessage({\"jupyterEvent\": \"custom.exercise_interaction\", \"data\": {\"outcomeType\": 1, \"valueTowardsCompletion\": 0.3333333333333333, \"interactionType\": 1, \"questionType\": 1, \"questionId\": \"1_LoadMuseumData\", \"learnToolsVersion\": \"0.3.4\", \"failureMessage\": \"\", \"exceptionClass\": \"\", \"trace\": \"\"}}, \"*\")"
      ],
      "text/plain": [
       "<IPython.core.display.Javascript object>"
      ]
     },
     "metadata": {},
     "output_type": "display_data"
    },
    {
     "data": {
      "text/markdown": [
       "<span style=\"color:#33cc33\">Correct</span>"
      ],
      "text/plain": [
       "Correct"
      ]
     },
     "metadata": {},
     "output_type": "display_data"
    }
   ],
   "source": [
    "# Path of the file to read\n",
    "museum_filepath = \"../input/museum_visitors.csv\"\n",
    "\n",
    "# Fill in the line below to read the file into a variable museum_data\n",
    "museum_data = pd.read_csv(museum_filepath,index_col=\"Date\", parse_dates=True)\n",
    "\n",
    "# Run the line below with no changes to check that you've loaded the data correctly\n",
    "step_1.check()"
   ]
  },
  {
   "cell_type": "code",
   "execution_count": 4,
   "id": "2ba05841",
   "metadata": {
    "execution": {
     "iopub.execute_input": "2022-01-29T15:47:19.186893Z",
     "iopub.status.busy": "2022-01-29T15:47:19.186227Z",
     "iopub.status.idle": "2022-01-29T15:47:19.189296Z",
     "shell.execute_reply": "2022-01-29T15:47:19.189864Z",
     "shell.execute_reply.started": "2022-01-29T15:24:17.215685Z"
    },
    "papermill": {
     "duration": 0.024428,
     "end_time": "2022-01-29T15:47:19.190024",
     "exception": false,
     "start_time": "2022-01-29T15:47:19.165596",
     "status": "completed"
    },
    "tags": []
   },
   "outputs": [],
   "source": [
    "# Uncomment the line below to receive a hint\n",
    "#step_1.hint()\n",
    "# Uncomment the line below to see the solution\n",
    "#step_1.solution()"
   ]
  },
  {
   "cell_type": "markdown",
   "id": "2ab89360",
   "metadata": {
    "papermill": {
     "duration": 0.01797,
     "end_time": "2022-01-29T15:47:19.226363",
     "exception": false,
     "start_time": "2022-01-29T15:47:19.208393",
     "status": "completed"
    },
    "tags": []
   },
   "source": [
    "## Step 2: Review the data\n",
    "\n",
    "Use a Python command to print the last 5 rows of the data."
   ]
  },
  {
   "cell_type": "code",
   "execution_count": 5,
   "id": "1437dc00",
   "metadata": {
    "execution": {
     "iopub.execute_input": "2022-01-29T15:47:19.266263Z",
     "iopub.status.busy": "2022-01-29T15:47:19.265561Z",
     "iopub.status.idle": "2022-01-29T15:47:19.278991Z",
     "shell.execute_reply": "2022-01-29T15:47:19.279553Z",
     "shell.execute_reply.started": "2022-01-29T15:27:36.138719Z"
    },
    "papermill": {
     "duration": 0.035098,
     "end_time": "2022-01-29T15:47:19.279721",
     "exception": false,
     "start_time": "2022-01-29T15:47:19.244623",
     "status": "completed"
    },
    "tags": []
   },
   "outputs": [
    {
     "data": {
      "text/html": [
       "<div>\n",
       "<style scoped>\n",
       "    .dataframe tbody tr th:only-of-type {\n",
       "        vertical-align: middle;\n",
       "    }\n",
       "\n",
       "    .dataframe tbody tr th {\n",
       "        vertical-align: top;\n",
       "    }\n",
       "\n",
       "    .dataframe thead th {\n",
       "        text-align: right;\n",
       "    }\n",
       "</style>\n",
       "<table border=\"1\" class=\"dataframe\">\n",
       "  <thead>\n",
       "    <tr style=\"text-align: right;\">\n",
       "      <th></th>\n",
       "      <th>Avila Adobe</th>\n",
       "      <th>Firehouse Museum</th>\n",
       "      <th>Chinese American Museum</th>\n",
       "      <th>America Tropical Interpretive Center</th>\n",
       "    </tr>\n",
       "    <tr>\n",
       "      <th>Date</th>\n",
       "      <th></th>\n",
       "      <th></th>\n",
       "      <th></th>\n",
       "      <th></th>\n",
       "    </tr>\n",
       "  </thead>\n",
       "  <tbody>\n",
       "    <tr>\n",
       "      <th>2018-07-01</th>\n",
       "      <td>23136</td>\n",
       "      <td>4191</td>\n",
       "      <td>2620</td>\n",
       "      <td>4718</td>\n",
       "    </tr>\n",
       "    <tr>\n",
       "      <th>2018-08-01</th>\n",
       "      <td>20815</td>\n",
       "      <td>4866</td>\n",
       "      <td>2409</td>\n",
       "      <td>3891</td>\n",
       "    </tr>\n",
       "    <tr>\n",
       "      <th>2018-09-01</th>\n",
       "      <td>21020</td>\n",
       "      <td>4956</td>\n",
       "      <td>2146</td>\n",
       "      <td>3180</td>\n",
       "    </tr>\n",
       "    <tr>\n",
       "      <th>2018-10-01</th>\n",
       "      <td>19280</td>\n",
       "      <td>4622</td>\n",
       "      <td>2364</td>\n",
       "      <td>3775</td>\n",
       "    </tr>\n",
       "    <tr>\n",
       "      <th>2018-11-01</th>\n",
       "      <td>17163</td>\n",
       "      <td>4082</td>\n",
       "      <td>2385</td>\n",
       "      <td>4562</td>\n",
       "    </tr>\n",
       "  </tbody>\n",
       "</table>\n",
       "</div>"
      ],
      "text/plain": [
       "            Avila Adobe  Firehouse Museum  Chinese American Museum  \\\n",
       "Date                                                                 \n",
       "2018-07-01        23136              4191                     2620   \n",
       "2018-08-01        20815              4866                     2409   \n",
       "2018-09-01        21020              4956                     2146   \n",
       "2018-10-01        19280              4622                     2364   \n",
       "2018-11-01        17163              4082                     2385   \n",
       "\n",
       "            America Tropical Interpretive Center  \n",
       "Date                                              \n",
       "2018-07-01                                  4718  \n",
       "2018-08-01                                  3891  \n",
       "2018-09-01                                  3180  \n",
       "2018-10-01                                  3775  \n",
       "2018-11-01                                  4562  "
      ]
     },
     "execution_count": 5,
     "metadata": {},
     "output_type": "execute_result"
    }
   ],
   "source": [
    "# Print the last five rows of the data \n",
    "____ # Your code here\n",
    "museum_data.tail()"
   ]
  },
  {
   "cell_type": "markdown",
   "id": "915a8d5d",
   "metadata": {
    "papermill": {
     "duration": 0.018672,
     "end_time": "2022-01-29T15:47:19.317088",
     "exception": false,
     "start_time": "2022-01-29T15:47:19.298416",
     "status": "completed"
    },
    "tags": []
   },
   "source": [
    "The last row (for `2018-11-01`) tracks the number of visitors to each museum in November 2018, the next-to-last row (for `2018-10-01`) tracks the number of visitors to each museum in October 2018, _and so on_.\n",
    "\n",
    "Use the last 5 rows of the data to answer the questions below."
   ]
  },
  {
   "cell_type": "code",
   "execution_count": 6,
   "id": "d047d0f5",
   "metadata": {
    "execution": {
     "iopub.execute_input": "2022-01-29T15:47:19.358028Z",
     "iopub.status.busy": "2022-01-29T15:47:19.357396Z",
     "iopub.status.idle": "2022-01-29T15:47:19.363707Z",
     "shell.execute_reply": "2022-01-29T15:47:19.364286Z",
     "shell.execute_reply.started": "2022-01-29T15:32:08.108024Z"
    },
    "papermill": {
     "duration": 0.028475,
     "end_time": "2022-01-29T15:47:19.364452",
     "exception": false,
     "start_time": "2022-01-29T15:47:19.335977",
     "status": "completed"
    },
    "tags": []
   },
   "outputs": [
    {
     "data": {
      "application/javascript": [
       "parent.postMessage({\"jupyterEvent\": \"custom.exercise_interaction\", \"data\": {\"outcomeType\": 1, \"valueTowardsCompletion\": 0.3333333333333333, \"interactionType\": 1, \"questionType\": 1, \"questionId\": \"2_ReviewData\", \"learnToolsVersion\": \"0.3.4\", \"failureMessage\": \"\", \"exceptionClass\": \"\", \"trace\": \"\"}}, \"*\")"
      ],
      "text/plain": [
       "<IPython.core.display.Javascript object>"
      ]
     },
     "metadata": {},
     "output_type": "display_data"
    },
    {
     "data": {
      "text/markdown": [
       "<span style=\"color:#33cc33\">Correct</span>"
      ],
      "text/plain": [
       "Correct"
      ]
     },
     "metadata": {},
     "output_type": "display_data"
    }
   ],
   "source": [
    "# Fill in the line below: How many visitors did the Chinese American Museum \n",
    "# receive in July 2018?\n",
    "ca_museum_jul18 = 2620\n",
    "\n",
    "# Fill in the line below: In October 2018, how many more visitors did Avila \n",
    "# Adobe receive than the Firehouse Museum?\n",
    "avila_oct18 = 19280 - 4622\n",
    "\n",
    "# Check your answers\n",
    "step_2.check()"
   ]
  },
  {
   "cell_type": "code",
   "execution_count": 7,
   "id": "47588a09",
   "metadata": {
    "execution": {
     "iopub.execute_input": "2022-01-29T15:47:19.406803Z",
     "iopub.status.busy": "2022-01-29T15:47:19.406125Z",
     "iopub.status.idle": "2022-01-29T15:47:19.408872Z",
     "shell.execute_reply": "2022-01-29T15:47:19.409353Z",
     "shell.execute_reply.started": "2022-01-29T15:32:12.899718Z"
    },
    "papermill": {
     "duration": 0.02542,
     "end_time": "2022-01-29T15:47:19.409516",
     "exception": false,
     "start_time": "2022-01-29T15:47:19.384096",
     "status": "completed"
    },
    "tags": []
   },
   "outputs": [],
   "source": [
    "# Lines below will give you a hint or solution code\n",
    "#step_2.hint()\n",
    "#step_2.solution()"
   ]
  },
  {
   "cell_type": "markdown",
   "id": "17f86ccc",
   "metadata": {
    "papermill": {
     "duration": 0.019271,
     "end_time": "2022-01-29T15:47:19.448922",
     "exception": false,
     "start_time": "2022-01-29T15:47:19.429651",
     "status": "completed"
    },
    "tags": []
   },
   "source": [
    "## Step 3: Convince the museum board \n",
    "\n",
    "The Firehouse Museum claims they ran an event in 2014 that brought an incredible number of visitors, and that they should get extra budget to run a similar event again.  The other museums think these types of events aren't that important, and budgets should be split purely based on recent visitors on an average day.  \n",
    "\n",
    "To show the museum board how the event compared to regular traffic at each museum, create a line chart that shows how the number of visitors to each museum evolved over time.  Your figure should have four lines (one for each museum).\n",
    "\n",
    "> **(Optional) Note**: If you have some prior experience with plotting figures in Python, you might be familiar with the `plt.show()` command.  If you decide to use this command, please place it **after** the line of code that checks your answer (in this case, place it after `step_3.check()` below) -- otherwise, the checking code will return an error!"
   ]
  },
  {
   "cell_type": "code",
   "execution_count": 8,
   "id": "3026e686",
   "metadata": {
    "execution": {
     "iopub.execute_input": "2022-01-29T15:47:19.497822Z",
     "iopub.status.busy": "2022-01-29T15:47:19.497104Z",
     "iopub.status.idle": "2022-01-29T15:47:19.965924Z",
     "shell.execute_reply": "2022-01-29T15:47:19.966419Z",
     "shell.execute_reply.started": "2022-01-29T15:39:29.683504Z"
    },
    "papermill": {
     "duration": 0.497972,
     "end_time": "2022-01-29T15:47:19.966592",
     "exception": false,
     "start_time": "2022-01-29T15:47:19.468620",
     "status": "completed"
    },
    "tags": []
   },
   "outputs": [
    {
     "data": {
      "application/javascript": [
       "parent.postMessage({\"jupyterEvent\": \"custom.exercise_interaction\", \"data\": {\"outcomeType\": 1, \"valueTowardsCompletion\": 0.3333333333333333, \"interactionType\": 1, \"questionType\": 2, \"questionId\": \"3_PlotAll\", \"learnToolsVersion\": \"0.3.4\", \"failureMessage\": \"\", \"exceptionClass\": \"\", \"trace\": \"\"}}, \"*\")"
      ],
      "text/plain": [
       "<IPython.core.display.Javascript object>"
      ]
     },
     "metadata": {},
     "output_type": "display_data"
    },
    {
     "data": {
      "text/markdown": [
       "<span style=\"color:#33cc33\">Correct</span>"
      ],
      "text/plain": [
       "Correct"
      ]
     },
     "metadata": {},
     "output_type": "display_data"
    },
    {
     "data": {
      "image/png": "[encoded data removed]",
      "text/plain": [
       "<Figure size 1008x432 with 1 Axes>"
      ]
     },
     "metadata": {
      "needs_background": "light"
     },
     "output_type": "display_data"
    }
   ],
   "source": [
    "# Line chart showing the number of visitors to each museum over time\n",
    "____ # Your code here\n",
    "li = ['Avila Adobe','Firehouse Museum','Chinese American Museum','America Tropical Interpretive Center']\n",
    "plt.figure(figsize=(14,6))\n",
    "for i in li:\n",
    "    sns.lineplot(data=museum_data[i],label=i)\n",
    "plt.xlabel(\"Date\")\n",
    "# Check your answer\n",
    "step_3.check()"
   ]
  },
  {
   "cell_type": "code",
   "execution_count": 9,
   "id": "49b19091",
   "metadata": {
    "execution": {
     "iopub.execute_input": "2022-01-29T15:47:20.017022Z",
     "iopub.status.busy": "2022-01-29T15:47:20.016403Z",
     "iopub.status.idle": "2022-01-29T15:47:20.019392Z",
     "shell.execute_reply": "2022-01-29T15:47:20.019887Z",
     "shell.execute_reply.started": "2022-01-29T15:42:04.151861Z"
    },
    "papermill": {
     "duration": 0.030355,
     "end_time": "2022-01-29T15:47:20.020052",
     "exception": false,
     "start_time": "2022-01-29T15:47:19.989697",
     "status": "completed"
    },
    "tags": []
   },
   "outputs": [],
   "source": [
    "# Lines below will give you a hint or solution code\n",
    "#step_3.hint()\n",
    "#step_3.solution_plot()"
   ]
  },
  {
   "cell_type": "markdown",
   "id": "7ee87a73",
   "metadata": {
    "papermill": {
     "duration": 0.02272,
     "end_time": "2022-01-29T15:47:20.065986",
     "exception": false,
     "start_time": "2022-01-29T15:47:20.043266",
     "status": "completed"
    },
    "tags": []
   },
   "source": [
    "## Step 4: Assess seasonality\n",
    "\n",
    "When meeting with the employees at Avila Adobe, you hear that one major pain point is that the number of museum visitors varies greatly with the seasons, with low seasons (when the employees are perfectly staffed and happy) and also high seasons (when the employees are understaffed and stressed).  You realize that if you can predict these high and low seasons, you can plan ahead to hire some additional seasonal employees to help out with the extra work.\n",
    "\n",
    "#### Part A\n",
    "Create a line chart that shows how the number of visitors to Avila Adobe has evolved over time.  (_If your code returns an error, the first thing that you should check is that you've spelled the name of the column correctly!  You must write the name of the column exactly as it appears in the dataset._)"
   ]
  },
  {
   "cell_type": "code",
   "execution_count": 10,
   "id": "f0f3b8e6",
   "metadata": {
    "execution": {
     "iopub.execute_input": "2022-01-29T15:47:20.116756Z",
     "iopub.status.busy": "2022-01-29T15:47:20.116094Z",
     "iopub.status.idle": "2022-01-29T15:47:20.396172Z",
     "shell.execute_reply": "2022-01-29T15:47:20.395655Z",
     "shell.execute_reply.started": "2022-01-29T15:43:24.804087Z"
    },
    "papermill": {
     "duration": 0.305835,
     "end_time": "2022-01-29T15:47:20.396332",
     "exception": false,
     "start_time": "2022-01-29T15:47:20.090497",
     "status": "completed"
    },
    "tags": []
   },
   "outputs": [
    {
     "name": "stdout",
     "output_type": "stream",
     "text": [
      "Thank you for creating a line chart!  To see how your code compares to the official solution, please use the code cell below.\n"
     ]
    },
    {
     "data": {
      "application/javascript": [
       "parent.postMessage({\"jupyterEvent\": \"custom.exercise_interaction\", \"data\": {\"outcomeType\": 1, \"valueTowardsCompletion\": 0.3333333333333333, \"interactionType\": 1, \"questionType\": 2, \"questionId\": \"4.1_PlotAvila\", \"learnToolsVersion\": \"0.3.4\", \"failureMessage\": \"\", \"exceptionClass\": \"\", \"trace\": \"\"}}, \"*\")"
      ],
      "text/plain": [
       "<IPython.core.display.Javascript object>"
      ]
     },
     "metadata": {},
     "output_type": "display_data"
    },
    {
     "data": {
      "text/markdown": [
       "<span style=\"color:#33cc33\">Correct</span>"
      ],
      "text/plain": [
       "Correct"
      ]
     },
     "metadata": {},
     "output_type": "display_data"
    },
    {
     "data": {
      "image/png": "[encoded data removed]",
      "text/plain": [
       "<Figure size 432x288 with 1 Axes>"
      ]
     },
     "metadata": {
      "needs_background": "light"
     },
     "output_type": "display_data"
    }
   ],
   "source": [
    "# Line plot showing the number of visitors to Avila Adobe over time\n",
    "____ # Your code here\n",
    "sns.lineplot(data=museum_data['Avila Adobe'],label='Avila Adobe')\n",
    "# Check your answer\n",
    "step_4.a.check()"
   ]
  },
  {
   "cell_type": "code",
   "execution_count": 11,
   "id": "b6e60029",
   "metadata": {
    "execution": {
     "iopub.execute_input": "2022-01-29T15:47:20.455780Z",
     "iopub.status.busy": "2022-01-29T15:47:20.454694Z",
     "iopub.status.idle": "2022-01-29T15:47:20.457319Z",
     "shell.execute_reply": "2022-01-29T15:47:20.456774Z",
     "shell.execute_reply.started": "2022-01-29T15:44:54.026825Z"
    },
    "papermill": {
     "duration": 0.034316,
     "end_time": "2022-01-29T15:47:20.457475",
     "exception": false,
     "start_time": "2022-01-29T15:47:20.423159",
     "status": "completed"
    },
    "tags": []
   },
   "outputs": [],
   "source": [
    "# Lines below will give you a hint or solution code\n",
    "#step_4.a.hint()\n",
    "#step_4.a.solution_plot()"
   ]
  },
  {
   "cell_type": "markdown",
   "id": "d26e1415",
   "metadata": {
    "papermill": {
     "duration": 0.025936,
     "end_time": "2022-01-29T15:47:20.509105",
     "exception": false,
     "start_time": "2022-01-29T15:47:20.483169",
     "status": "completed"
    },
    "tags": []
   },
   "source": [
    "#### Part B\n",
    "\n",
    "Does Avila Adobe get more visitors:\n",
    "- in September-February (in LA, the fall and winter months), or \n",
    "- in March-August (in LA, the spring and summer)?  \n",
    "\n",
    "Using this information, when should the museum staff additional seasonal employees?"
   ]
  },
  {
   "cell_type": "code",
   "execution_count": 12,
   "id": "bed9cfb4",
   "metadata": {
    "execution": {
     "iopub.execute_input": "2022-01-29T15:47:20.564388Z",
     "iopub.status.busy": "2022-01-29T15:47:20.563685Z",
     "iopub.status.idle": "2022-01-29T15:47:20.566178Z",
     "shell.execute_reply": "2022-01-29T15:47:20.566708Z",
     "shell.execute_reply.started": "2022-01-29T15:46:32.242276Z"
    },
    "papermill": {
     "duration": 0.031403,
     "end_time": "2022-01-29T15:47:20.566874",
     "exception": false,
     "start_time": "2022-01-29T15:47:20.535471",
     "status": "completed"
    },
    "tags": []
   },
   "outputs": [],
   "source": [
    "#step_4.b.hint()\n",
    "#September-February"
   ]
  },
  {
   "cell_type": "code",
   "execution_count": 13,
   "id": "314573fe",
   "metadata": {
    "execution": {
     "iopub.execute_input": "2022-01-29T15:47:20.621195Z",
     "iopub.status.busy": "2022-01-29T15:47:20.620541Z",
     "iopub.status.idle": "2022-01-29T15:47:20.626660Z",
     "shell.execute_reply": "2022-01-29T15:47:20.625943Z",
     "shell.execute_reply.started": "2022-01-29T15:46:33.780812Z"
    },
    "papermill": {
     "duration": 0.034425,
     "end_time": "2022-01-29T15:47:20.626818",
     "exception": false,
     "start_time": "2022-01-29T15:47:20.592393",
     "status": "completed"
    },
    "tags": []
   },
   "outputs": [
    {
     "data": {
      "application/javascript": [
       "parent.postMessage({\"jupyterEvent\": \"custom.exercise_interaction\", \"data\": {\"interactionType\": 3, \"questionType\": 4, \"questionId\": \"4.2_ThinkAvila\", \"learnToolsVersion\": \"0.3.4\", \"valueTowardsCompletion\": 0.0, \"failureMessage\": \"\", \"exceptionClass\": \"\", \"trace\": \"\", \"outcomeType\": 4}}, \"*\")"
      ],
      "text/plain": [
       "<IPython.core.display.Javascript object>"
      ]
     },
     "metadata": {},
     "output_type": "display_data"
    },
    {
     "data": {
      "text/markdown": [
       "<span style=\"color:#33cc99\">Solution:</span> The line chart generally dips to relatively low values around the early part of each year (in December and January), and reaches its highest values in the middle of the year (especially around May and June).  Thus, Avila Adobe usually gets more visitors in March-August (or the spring and summer months).  With this in mind, Avila Adobe could definitely benefit from hiring more seasonal employees to help with the extra work in March-August (the spring and summer)!"
      ],
      "text/plain": [
       "Solution: The line chart generally dips to relatively low values around the early part of each year (in December and January), and reaches its highest values in the middle of the year (especially around May and June).  Thus, Avila Adobe usually gets more visitors in March-August (or the spring and summer months).  With this in mind, Avila Adobe could definitely benefit from hiring more seasonal employees to help with the extra work in March-August (the spring and summer)!"
      ]
     },
     "metadata": {},
     "output_type": "display_data"
    }
   ],
   "source": [
    "# Check your answer (Run this code cell to receive credit!)\n",
    "step_4.b.solution()"
   ]
  },
  {
   "cell_type": "markdown",
   "id": "de060eb7",
   "metadata": {
    "papermill": {
     "duration": 0.026522,
     "end_time": "2022-01-29T15:47:20.680292",
     "exception": false,
     "start_time": "2022-01-29T15:47:20.653770",
     "status": "completed"
    },
    "tags": []
   },
   "source": [
    "# Keep going\n",
    "\n",
    "Move on to learn about **[bar charts and heatmaps](https://www.kaggle.com/alexisbcook/bar-charts-and-heatmaps)** with a new dataset!"
   ]
  },
  {
   "cell_type": "markdown",
   "id": "b9b11021",
   "metadata": {
    "papermill": {
     "duration": 0.026974,
     "end_time": "2022-01-29T15:47:20.733921",
     "exception": false,
     "start_time": "2022-01-29T15:47:20.706947",
     "status": "completed"
    },
    "tags": []
   },
   "source": [
    "---\n",
    "\n",
    "\n",
    "\n",
    "\n",
    "*Have questions or comments? Visit the [course discussion forum](https://www.kaggle.com/learn/data-visualization/discussion) to chat with other learners.*"
   ]
  }
 ],
 "metadata": {
  "kernelspec": {
   "display_name": "Python 3",
   "language": "python",
   "name": "python3"
  },
  "language_info": {
   "codemirror_mode": {
    "name": "ipython",
    "version": 3
   },
   "file_extension": ".py",
   "mimetype": "text/x-python",
   "name": "python",
   "nbconvert_exporter": "python",
   "pygments_lexer": "ipython3",
   "version": "3.7.12"
  },
  "papermill": {
   "default_parameters": {},
   "duration": 13.730311,
   "end_time": "2022-01-29T15:47:21.470472",
   "environment_variables": {},
   "exception": null,
   "input_path": "__notebook__.ipynb",
   "output_path": "__notebook__.ipynb",
   "parameters": {},
   "start_time": "2022-01-29T15:47:07.740161",
   "version": "2.3.3"
  }
 },
 "nbformat": 4,
 "nbformat_minor": 5
}
