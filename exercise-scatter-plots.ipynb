{
 "cells": [
  {
   "cell_type": "markdown",
   "id": "7e189365",
   "metadata": {
    "papermill": {
     "duration": 0.024628,
     "end_time": "2022-01-31T06:32:19.134722",
     "exception": false,
     "start_time": "2022-01-31T06:32:19.110094",
     "status": "completed"
    },
    "tags": []
   },
   "source": [
    "**This notebook is an exercise in the [Data Visualization](https://www.kaggle.com/learn/data-visualization) course.  You can reference the tutorial at [this link](https://www.kaggle.com/alexisbcook/scatter-plots).**\n",
    "\n",
    "---\n"
   ]
  },
  {
   "cell_type": "markdown",
   "id": "3a4a4962",
   "metadata": {
    "papermill": {
     "duration": 0.027707,
     "end_time": "2022-01-31T06:32:19.187133",
     "exception": false,
     "start_time": "2022-01-31T06:32:19.159426",
     "status": "completed"
    },
    "tags": []
   },
   "source": [
    "In this exercise, you will use your new knowledge to propose a solution to a real-world scenario.  To succeed, you will need to import data into Python, answer questions using the data, and generate **scatter plots** to understand patterns in the data.\n",
    "\n",
    "## Scenario\n",
    "\n",
    "You work for a major candy producer, and your goal is to write a report that your company can use to guide the design of its next product.  Soon after starting your research, you stumble across this [very interesting dataset](https://fivethirtyeight.com/features/the-ultimate-halloween-candy-power-ranking/) containing results from a fun survey to crowdsource favorite candies.\n",
    "\n",
    "## Setup\n",
    "\n",
    "Run the next cell to import and configure the Python libraries that you need to complete the exercise."
   ]
  },
  {
   "cell_type": "code",
   "execution_count": 1,
   "id": "1b87661f",
   "metadata": {
    "execution": {
     "iopub.execute_input": "2022-01-31T06:32:19.261731Z",
     "iopub.status.busy": "2022-01-31T06:32:19.260380Z",
     "iopub.status.idle": "2022-01-31T06:32:20.672233Z",
     "shell.execute_reply": "2022-01-31T06:32:20.671006Z",
     "shell.execute_reply.started": "2022-01-31T06:12:57.775856Z"
    },
    "papermill": {
     "duration": 1.458504,
     "end_time": "2022-01-31T06:32:20.672559",
     "exception": false,
     "start_time": "2022-01-31T06:32:19.214055",
     "status": "completed"
    },
    "tags": []
   },
   "outputs": [
    {
     "name": "stdout",
     "output_type": "stream",
     "text": [
      "Setup Complete\n"
     ]
    }
   ],
   "source": [
    "import pandas as pd\n",
    "pd.plotting.register_matplotlib_converters()\n",
    "import matplotlib.pyplot as plt\n",
    "%matplotlib inline\n",
    "import seaborn as sns\n",
    "print(\"Setup Complete\")"
   ]
  },
  {
   "cell_type": "markdown",
   "id": "5796cafa",
   "metadata": {
    "papermill": {
     "duration": 0.028587,
     "end_time": "2022-01-31T06:32:20.728936",
     "exception": false,
     "start_time": "2022-01-31T06:32:20.700349",
     "status": "completed"
    },
    "tags": []
   },
   "source": [
    "The questions below will give you feedback on your work. Run the following cell to set up our feedback system."
   ]
  },
  {
   "cell_type": "code",
   "execution_count": 2,
   "id": "0400d1c8",
   "metadata": {
    "execution": {
     "iopub.execute_input": "2022-01-31T06:32:20.785586Z",
     "iopub.status.busy": "2022-01-31T06:32:20.785058Z",
     "iopub.status.idle": "2022-01-31T06:32:20.859586Z",
     "shell.execute_reply": "2022-01-31T06:32:20.858783Z",
     "shell.execute_reply.started": "2022-01-31T06:13:10.699555Z"
    },
    "papermill": {
     "duration": 0.106065,
     "end_time": "2022-01-31T06:32:20.859773",
     "exception": false,
     "start_time": "2022-01-31T06:32:20.753708",
     "status": "completed"
    },
    "tags": []
   },
   "outputs": [
    {
     "name": "stdout",
     "output_type": "stream",
     "text": [
      "Setup Complete\n"
     ]
    }
   ],
   "source": [
    "# Set up code checking\n",
    "import os\n",
    "if not os.path.exists(\"../input/candy.csv\"):\n",
    "    os.symlink(\"../input/data-for-datavis/candy.csv\", \"../input/candy.csv\") \n",
    "from learntools.core import binder\n",
    "binder.bind(globals())\n",
    "from learntools.data_viz_to_coder.ex4 import *\n",
    "print(\"Setup Complete\")"
   ]
  },
  {
   "cell_type": "markdown",
   "id": "835b0c5d",
   "metadata": {
    "papermill": {
     "duration": 0.03939,
     "end_time": "2022-01-31T06:32:20.940628",
     "exception": false,
     "start_time": "2022-01-31T06:32:20.901238",
     "status": "completed"
    },
    "tags": []
   },
   "source": [
    "## Step 1: Load the Data\n",
    "\n",
    "Read the candy data file into `candy_data`.  Use the `\"id\"` column to label the rows."
   ]
  },
  {
   "cell_type": "code",
   "execution_count": 3,
   "id": "2aecfd3b",
   "metadata": {
    "execution": {
     "iopub.execute_input": "2022-01-31T06:32:21.026151Z",
     "iopub.status.busy": "2022-01-31T06:32:21.025483Z",
     "iopub.status.idle": "2022-01-31T06:32:21.039300Z",
     "shell.execute_reply": "2022-01-31T06:32:21.038832Z",
     "shell.execute_reply.started": "2022-01-31T06:15:08.476048Z"
    },
    "papermill": {
     "duration": 0.058894,
     "end_time": "2022-01-31T06:32:21.039422",
     "exception": false,
     "start_time": "2022-01-31T06:32:20.980528",
     "status": "completed"
    },
    "tags": []
   },
   "outputs": [
    {
     "data": {
      "application/javascript": [
       "parent.postMessage({\"jupyterEvent\": \"custom.exercise_interaction\", \"data\": {\"outcomeType\": 1, \"valueTowardsCompletion\": 0.3333333333333333, \"interactionType\": 1, \"questionType\": 1, \"questionId\": \"1_LoadData\", \"learnToolsVersion\": \"0.3.4\", \"failureMessage\": \"\", \"exceptionClass\": \"\", \"trace\": \"\"}}, \"*\")"
      ],
      "text/plain": [
       "<IPython.core.display.Javascript object>"
      ]
     },
     "metadata": {},
     "output_type": "display_data"
    },
    {
     "data": {
      "text/markdown": [
       "<span style=\"color:#33cc33\">Correct</span>"
      ],
      "text/plain": [
       "Correct"
      ]
     },
     "metadata": {},
     "output_type": "display_data"
    }
   ],
   "source": [
    "# Path of the file to read\n",
    "candy_filepath = \"../input/candy.csv\"\n",
    "\n",
    "# Fill in the line below to read the file into a variable candy_data\n",
    "candy_data = pd.read_csv(candy_filepath,index_col='id')\n",
    "\n",
    "# Run the line below with no changes to check that you've loaded the data correctly\n",
    "step_1.check()"
   ]
  },
  {
   "cell_type": "code",
   "execution_count": 4,
   "id": "efe01024",
   "metadata": {
    "execution": {
     "iopub.execute_input": "2022-01-31T06:32:21.096269Z",
     "iopub.status.busy": "2022-01-31T06:32:21.095725Z",
     "iopub.status.idle": "2022-01-31T06:32:21.098632Z",
     "shell.execute_reply": "2022-01-31T06:32:21.098201Z",
     "shell.execute_reply.started": "2022-01-31T06:15:11.947704Z"
    },
    "papermill": {
     "duration": 0.033948,
     "end_time": "2022-01-31T06:32:21.098809",
     "exception": false,
     "start_time": "2022-01-31T06:32:21.064861",
     "status": "completed"
    },
    "tags": []
   },
   "outputs": [],
   "source": [
    "# Lines below will give you a hint or solution code\n",
    "#step_1.hint()\n",
    "#step_1.solution()"
   ]
  },
  {
   "cell_type": "markdown",
   "id": "5671c6f3",
   "metadata": {
    "papermill": {
     "duration": 0.025726,
     "end_time": "2022-01-31T06:32:21.151456",
     "exception": false,
     "start_time": "2022-01-31T06:32:21.125730",
     "status": "completed"
    },
    "tags": []
   },
   "source": [
    "## Step 2: Review the data\n",
    "\n",
    "Use a Python command to print the first five rows of the data."
   ]
  },
  {
   "cell_type": "code",
   "execution_count": 5,
   "id": "9a225a07",
   "metadata": {
    "execution": {
     "iopub.execute_input": "2022-01-31T06:32:21.212317Z",
     "iopub.status.busy": "2022-01-31T06:32:21.211751Z",
     "iopub.status.idle": "2022-01-31T06:32:21.236131Z",
     "shell.execute_reply": "2022-01-31T06:32:21.235159Z",
     "shell.execute_reply.started": "2022-01-31T06:15:27.934772Z"
    },
    "papermill": {
     "duration": 0.057839,
     "end_time": "2022-01-31T06:32:21.236360",
     "exception": false,
     "start_time": "2022-01-31T06:32:21.178521",
     "status": "completed"
    },
    "tags": []
   },
   "outputs": [
    {
     "data": {
      "text/html": [
       "<div>\n",
       "<style scoped>\n",
       "    .dataframe tbody tr th:only-of-type {\n",
       "        vertical-align: middle;\n",
       "    }\n",
       "\n",
       "    .dataframe tbody tr th {\n",
       "        vertical-align: top;\n",
       "    }\n",
       "\n",
       "    .dataframe thead th {\n",
       "        text-align: right;\n",
       "    }\n",
       "</style>\n",
       "<table border=\"1\" class=\"dataframe\">\n",
       "  <thead>\n",
       "    <tr style=\"text-align: right;\">\n",
       "      <th></th>\n",
       "      <th>competitorname</th>\n",
       "      <th>chocolate</th>\n",
       "      <th>fruity</th>\n",
       "      <th>caramel</th>\n",
       "      <th>peanutyalmondy</th>\n",
       "      <th>nougat</th>\n",
       "      <th>crispedricewafer</th>\n",
       "      <th>hard</th>\n",
       "      <th>bar</th>\n",
       "      <th>pluribus</th>\n",
       "      <th>sugarpercent</th>\n",
       "      <th>pricepercent</th>\n",
       "      <th>winpercent</th>\n",
       "    </tr>\n",
       "    <tr>\n",
       "      <th>id</th>\n",
       "      <th></th>\n",
       "      <th></th>\n",
       "      <th></th>\n",
       "      <th></th>\n",
       "      <th></th>\n",
       "      <th></th>\n",
       "      <th></th>\n",
       "      <th></th>\n",
       "      <th></th>\n",
       "      <th></th>\n",
       "      <th></th>\n",
       "      <th></th>\n",
       "      <th></th>\n",
       "    </tr>\n",
       "  </thead>\n",
       "  <tbody>\n",
       "    <tr>\n",
       "      <th>0</th>\n",
       "      <td>100 Grand</td>\n",
       "      <td>Yes</td>\n",
       "      <td>No</td>\n",
       "      <td>Yes</td>\n",
       "      <td>No</td>\n",
       "      <td>No</td>\n",
       "      <td>Yes</td>\n",
       "      <td>No</td>\n",
       "      <td>Yes</td>\n",
       "      <td>No</td>\n",
       "      <td>0.732</td>\n",
       "      <td>0.860</td>\n",
       "      <td>66.971725</td>\n",
       "    </tr>\n",
       "    <tr>\n",
       "      <th>1</th>\n",
       "      <td>3 Musketeers</td>\n",
       "      <td>Yes</td>\n",
       "      <td>No</td>\n",
       "      <td>No</td>\n",
       "      <td>No</td>\n",
       "      <td>Yes</td>\n",
       "      <td>No</td>\n",
       "      <td>No</td>\n",
       "      <td>Yes</td>\n",
       "      <td>No</td>\n",
       "      <td>0.604</td>\n",
       "      <td>0.511</td>\n",
       "      <td>67.602936</td>\n",
       "    </tr>\n",
       "    <tr>\n",
       "      <th>2</th>\n",
       "      <td>Air Heads</td>\n",
       "      <td>No</td>\n",
       "      <td>Yes</td>\n",
       "      <td>No</td>\n",
       "      <td>No</td>\n",
       "      <td>No</td>\n",
       "      <td>No</td>\n",
       "      <td>No</td>\n",
       "      <td>No</td>\n",
       "      <td>No</td>\n",
       "      <td>0.906</td>\n",
       "      <td>0.511</td>\n",
       "      <td>52.341465</td>\n",
       "    </tr>\n",
       "    <tr>\n",
       "      <th>3</th>\n",
       "      <td>Almond Joy</td>\n",
       "      <td>Yes</td>\n",
       "      <td>No</td>\n",
       "      <td>No</td>\n",
       "      <td>Yes</td>\n",
       "      <td>No</td>\n",
       "      <td>No</td>\n",
       "      <td>No</td>\n",
       "      <td>Yes</td>\n",
       "      <td>No</td>\n",
       "      <td>0.465</td>\n",
       "      <td>0.767</td>\n",
       "      <td>50.347546</td>\n",
       "    </tr>\n",
       "    <tr>\n",
       "      <th>4</th>\n",
       "      <td>Baby Ruth</td>\n",
       "      <td>Yes</td>\n",
       "      <td>No</td>\n",
       "      <td>Yes</td>\n",
       "      <td>Yes</td>\n",
       "      <td>Yes</td>\n",
       "      <td>No</td>\n",
       "      <td>No</td>\n",
       "      <td>Yes</td>\n",
       "      <td>No</td>\n",
       "      <td>0.604</td>\n",
       "      <td>0.767</td>\n",
       "      <td>56.914547</td>\n",
       "    </tr>\n",
       "  </tbody>\n",
       "</table>\n",
       "</div>"
      ],
      "text/plain": [
       "   competitorname chocolate fruity caramel peanutyalmondy nougat  \\\n",
       "id                                                                 \n",
       "0       100 Grand       Yes     No     Yes             No     No   \n",
       "1    3 Musketeers       Yes     No      No             No    Yes   \n",
       "2       Air Heads        No    Yes      No             No     No   \n",
       "3      Almond Joy       Yes     No      No            Yes     No   \n",
       "4       Baby Ruth       Yes     No     Yes            Yes    Yes   \n",
       "\n",
       "   crispedricewafer hard  bar pluribus  sugarpercent  pricepercent  winpercent  \n",
       "id                                                                              \n",
       "0               Yes   No  Yes       No         0.732         0.860   66.971725  \n",
       "1                No   No  Yes       No         0.604         0.511   67.602936  \n",
       "2                No   No   No       No         0.906         0.511   52.341465  \n",
       "3                No   No  Yes       No         0.465         0.767   50.347546  \n",
       "4                No   No  Yes       No         0.604         0.767   56.914547  "
      ]
     },
     "execution_count": 5,
     "metadata": {},
     "output_type": "execute_result"
    }
   ],
   "source": [
    "# Print the first five rows of the data\n",
    "candy_data.head()"
   ]
  },
  {
   "cell_type": "markdown",
   "id": "b6922091",
   "metadata": {
    "papermill": {
     "duration": 0.029689,
     "end_time": "2022-01-31T06:32:21.294351",
     "exception": false,
     "start_time": "2022-01-31T06:32:21.264662",
     "status": "completed"
    },
    "tags": []
   },
   "source": [
    "The dataset contains 83 rows, where each corresponds to a different candy bar.  There are 13 columns:\n",
    "- `'competitorname'` contains the name of the candy bar. \n",
    "- the next **9** columns (from `'chocolate'` to `'pluribus'`) describe the candy.  For instance, rows with chocolate candies have `\"Yes\"` in the `'chocolate'` column (and candies without chocolate have `\"No\"` in the same column).\n",
    "- `'sugarpercent'` provides some indication of the amount of sugar, where higher values signify higher sugar content.\n",
    "- `'pricepercent'` shows the price per unit, relative to the other candies in the dataset.\n",
    "- `'winpercent'` is calculated from the survey results; higher values indicate that the candy was more popular with survey respondents.\n",
    "\n",
    "Use the first five rows of the data to answer the questions below."
   ]
  },
  {
   "cell_type": "code",
   "execution_count": 6,
   "id": "f1a3ce99",
   "metadata": {
    "execution": {
     "iopub.execute_input": "2022-01-31T06:32:21.353219Z",
     "iopub.status.busy": "2022-01-31T06:32:21.352669Z",
     "iopub.status.idle": "2022-01-31T06:32:21.360150Z",
     "shell.execute_reply": "2022-01-31T06:32:21.359646Z",
     "shell.execute_reply.started": "2022-01-31T06:18:58.622894Z"
    },
    "papermill": {
     "duration": 0.039139,
     "end_time": "2022-01-31T06:32:21.360292",
     "exception": false,
     "start_time": "2022-01-31T06:32:21.321153",
     "status": "completed"
    },
    "tags": []
   },
   "outputs": [
    {
     "data": {
      "application/javascript": [
       "parent.postMessage({\"jupyterEvent\": \"custom.exercise_interaction\", \"data\": {\"outcomeType\": 1, \"valueTowardsCompletion\": 0.3333333333333333, \"interactionType\": 1, \"questionType\": 1, \"questionId\": \"2_ReviewData\", \"learnToolsVersion\": \"0.3.4\", \"failureMessage\": \"\", \"exceptionClass\": \"\", \"trace\": \"\"}}, \"*\")"
      ],
      "text/plain": [
       "<IPython.core.display.Javascript object>"
      ]
     },
     "metadata": {},
     "output_type": "display_data"
    },
    {
     "data": {
      "text/markdown": [
       "<span style=\"color:#33cc33\">Correct</span>"
      ],
      "text/plain": [
       "Correct"
      ]
     },
     "metadata": {},
     "output_type": "display_data"
    }
   ],
   "source": [
    "# Fill in the line below: Which candy was more popular with survey respondents:\n",
    "# '3 Musketeers' or 'Almond Joy'?  (Please enclose your answer in single quotes.)\n",
    "more_popular = '3 Musketeers'\n",
    "\n",
    "# Fill in the line below: Which candy has higher sugar content: 'Air Heads'\n",
    "# or 'Baby Ruth'? (Please enclose your answer in single quotes.)\n",
    "more_sugar = 'Air Heads'\n",
    "\n",
    "# Check your answers\n",
    "step_2.check()"
   ]
  },
  {
   "cell_type": "code",
   "execution_count": 7,
   "id": "c2f52a83",
   "metadata": {
    "execution": {
     "iopub.execute_input": "2022-01-31T06:32:21.420870Z",
     "iopub.status.busy": "2022-01-31T06:32:21.420236Z",
     "iopub.status.idle": "2022-01-31T06:32:21.423005Z",
     "shell.execute_reply": "2022-01-31T06:32:21.423443Z",
     "shell.execute_reply.started": "2022-01-31T06:19:01.073016Z"
    },
    "papermill": {
     "duration": 0.034617,
     "end_time": "2022-01-31T06:32:21.423613",
     "exception": false,
     "start_time": "2022-01-31T06:32:21.388996",
     "status": "completed"
    },
    "tags": []
   },
   "outputs": [],
   "source": [
    "# Lines below will give you a hint or solution code\n",
    "#step_2.hint()\n",
    "#step_2.solution()"
   ]
  },
  {
   "cell_type": "markdown",
   "id": "841d214f",
   "metadata": {
    "papermill": {
     "duration": 0.02797,
     "end_time": "2022-01-31T06:32:21.479365",
     "exception": false,
     "start_time": "2022-01-31T06:32:21.451395",
     "status": "completed"
    },
    "tags": []
   },
   "source": [
    "## Step 3: The role of sugar\n",
    "\n",
    "Do people tend to prefer candies with higher sugar content?  \n",
    "\n",
    "#### Part A\n",
    "\n",
    "Create a scatter plot that shows the relationship between `'sugarpercent'` (on the horizontal x-axis) and `'winpercent'` (on the vertical y-axis).  _Don't add a regression line just yet -- you'll do that in the next step!_"
   ]
  },
  {
   "cell_type": "code",
   "execution_count": 8,
   "id": "1a6547cd",
   "metadata": {
    "execution": {
     "iopub.execute_input": "2022-01-31T06:32:21.544387Z",
     "iopub.status.busy": "2022-01-31T06:32:21.543867Z",
     "iopub.status.idle": "2022-01-31T06:32:21.817555Z",
     "shell.execute_reply": "2022-01-31T06:32:21.817116Z",
     "shell.execute_reply.started": "2022-01-31T06:19:40.584826Z"
    },
    "papermill": {
     "duration": 0.309396,
     "end_time": "2022-01-31T06:32:21.817671",
     "exception": false,
     "start_time": "2022-01-31T06:32:21.508275",
     "status": "completed"
    },
    "tags": []
   },
   "outputs": [
    {
     "data": {
      "application/javascript": [
       "parent.postMessage({\"jupyterEvent\": \"custom.exercise_interaction\", \"data\": {\"outcomeType\": 1, \"valueTowardsCompletion\": 0.3333333333333333, \"interactionType\": 1, \"questionType\": 2, \"questionId\": \"3.1_PlotBlueScatter\", \"learnToolsVersion\": \"0.3.4\", \"failureMessage\": \"\", \"exceptionClass\": \"\", \"trace\": \"\"}}, \"*\")"
      ],
      "text/plain": [
       "<IPython.core.display.Javascript object>"
      ]
     },
     "metadata": {},
     "output_type": "display_data"
    },
    {
     "data": {
      "text/markdown": [
       "<span style=\"color:#33cc33\">Correct</span>"
      ],
      "text/plain": [
       "Correct"
      ]
     },
     "metadata": {},
     "output_type": "display_data"
    },
    {
     "data": {
      "image/png": "[encoded data removed]",
      "text/plain": [
       "<Figure size 432x288 with 1 Axes>"
      ]
     },
     "metadata": {
      "needs_background": "light"
     },
     "output_type": "display_data"
    }
   ],
   "source": [
    "# Scatter plot showing the relationship between 'sugarpercent' and 'winpercent'\n",
    "____ # Your code here\n",
    "sns.scatterplot(x='sugarpercent',y='winpercent',data=candy_data)\n",
    "# Check your answer\n",
    "step_3.a.check()"
   ]
  },
  {
   "cell_type": "code",
   "execution_count": 9,
   "id": "ccbabff2",
   "metadata": {
    "execution": {
     "iopub.execute_input": "2022-01-31T06:32:21.878178Z",
     "iopub.status.busy": "2022-01-31T06:32:21.877665Z",
     "iopub.status.idle": "2022-01-31T06:32:21.880675Z",
     "shell.execute_reply": "2022-01-31T06:32:21.881096Z",
     "shell.execute_reply.started": "2022-01-31T06:19:47.751287Z"
    },
    "papermill": {
     "duration": 0.035435,
     "end_time": "2022-01-31T06:32:21.881242",
     "exception": false,
     "start_time": "2022-01-31T06:32:21.845807",
     "status": "completed"
    },
    "tags": []
   },
   "outputs": [],
   "source": [
    "# Lines below will give you a hint or solution code\n",
    "#step_3.a.hint()\n",
    "#step_3.a.solution_plot()"
   ]
  },
  {
   "cell_type": "markdown",
   "id": "62046472",
   "metadata": {
    "papermill": {
     "duration": 0.027345,
     "end_time": "2022-01-31T06:32:21.937197",
     "exception": false,
     "start_time": "2022-01-31T06:32:21.909852",
     "status": "completed"
    },
    "tags": []
   },
   "source": [
    "#### Part B\n",
    "\n",
    "Does the scatter plot show a **strong** correlation between the two variables?  If so, are candies with more sugar relatively more or less popular with the survey respondents?"
   ]
  },
  {
   "cell_type": "code",
   "execution_count": 10,
   "id": "4cb23b8b",
   "metadata": {
    "execution": {
     "iopub.execute_input": "2022-01-31T06:32:21.998214Z",
     "iopub.status.busy": "2022-01-31T06:32:21.997653Z",
     "iopub.status.idle": "2022-01-31T06:32:22.000815Z",
     "shell.execute_reply": "2022-01-31T06:32:22.001236Z",
     "shell.execute_reply.started": "2022-01-31T06:20:45.422151Z"
    },
    "papermill": {
     "duration": 0.035654,
     "end_time": "2022-01-31T06:32:22.001412",
     "exception": false,
     "start_time": "2022-01-31T06:32:21.965758",
     "status": "completed"
    },
    "tags": []
   },
   "outputs": [],
   "source": [
    "#step_3.b.hint()\n",
    "#no"
   ]
  },
  {
   "cell_type": "code",
   "execution_count": 11,
   "id": "4b544202",
   "metadata": {
    "execution": {
     "iopub.execute_input": "2022-01-31T06:32:22.061870Z",
     "iopub.status.busy": "2022-01-31T06:32:22.061385Z",
     "iopub.status.idle": "2022-01-31T06:32:22.067944Z",
     "shell.execute_reply": "2022-01-31T06:32:22.067459Z",
     "shell.execute_reply.started": "2022-01-31T06:20:46.934441Z"
    },
    "papermill": {
     "duration": 0.037438,
     "end_time": "2022-01-31T06:32:22.068074",
     "exception": false,
     "start_time": "2022-01-31T06:32:22.030636",
     "status": "completed"
    },
    "tags": []
   },
   "outputs": [
    {
     "data": {
      "application/javascript": [
       "parent.postMessage({\"jupyterEvent\": \"custom.exercise_interaction\", \"data\": {\"interactionType\": 3, \"questionType\": 4, \"questionId\": \"3.2_ThinkBlueScatter\", \"learnToolsVersion\": \"0.3.4\", \"valueTowardsCompletion\": 0.0, \"failureMessage\": \"\", \"exceptionClass\": \"\", \"trace\": \"\", \"outcomeType\": 4}}, \"*\")"
      ],
      "text/plain": [
       "<IPython.core.display.Javascript object>"
      ]
     },
     "metadata": {},
     "output_type": "display_data"
    },
    {
     "data": {
      "text/markdown": [
       "<span style=\"color:#33cc99\">Solution:</span> The scatter plot does not show a strong correlation between the two variables. Since there is no clear relationship between the two variables, this tells us that sugar content does not play a strong role in candy popularity."
      ],
      "text/plain": [
       "Solution: The scatter plot does not show a strong correlation between the two variables. Since there is no clear relationship between the two variables, this tells us that sugar content does not play a strong role in candy popularity."
      ]
     },
     "metadata": {},
     "output_type": "display_data"
    }
   ],
   "source": [
    "# Check your answer (Run this code cell to receive credit!)\n",
    "step_3.b.solution()"
   ]
  },
  {
   "cell_type": "markdown",
   "id": "89e3712d",
   "metadata": {
    "papermill": {
     "duration": 0.029099,
     "end_time": "2022-01-31T06:32:22.126042",
     "exception": false,
     "start_time": "2022-01-31T06:32:22.096943",
     "status": "completed"
    },
    "tags": []
   },
   "source": [
    "## Step 4: Take a closer look\n",
    "\n",
    "#### Part A\n",
    "\n",
    "Create the same scatter plot you created in **Step 3**, but now with a regression line!"
   ]
  },
  {
   "cell_type": "code",
   "execution_count": 12,
   "id": "bebf8488",
   "metadata": {
    "execution": {
     "iopub.execute_input": "2022-01-31T06:32:22.193184Z",
     "iopub.status.busy": "2022-01-31T06:32:22.192587Z",
     "iopub.status.idle": "2022-01-31T06:32:22.535986Z",
     "shell.execute_reply": "2022-01-31T06:32:22.535543Z",
     "shell.execute_reply.started": "2022-01-31T06:21:41.295226Z"
    },
    "papermill": {
     "duration": 0.379655,
     "end_time": "2022-01-31T06:32:22.536113",
     "exception": false,
     "start_time": "2022-01-31T06:32:22.156458",
     "status": "completed"
    },
    "tags": []
   },
   "outputs": [
    {
     "data": {
      "application/javascript": [
       "parent.postMessage({\"jupyterEvent\": \"custom.exercise_interaction\", \"data\": {\"outcomeType\": 1, \"valueTowardsCompletion\": 0.3333333333333333, \"interactionType\": 1, \"questionType\": 2, \"questionId\": \"4.1_PlotBlueReg\", \"learnToolsVersion\": \"0.3.4\", \"failureMessage\": \"\", \"exceptionClass\": \"\", \"trace\": \"\"}}, \"*\")"
      ],
      "text/plain": [
       "<IPython.core.display.Javascript object>"
      ]
     },
     "metadata": {},
     "output_type": "display_data"
    },
    {
     "data": {
      "text/markdown": [
       "<span style=\"color:#33cc33\">Correct</span>"
      ],
      "text/plain": [
       "Correct"
      ]
     },
     "metadata": {},
     "output_type": "display_data"
    },
    {
     "data": {
      "image/png": "[encoded data removed]",
      "text/plain": [
       "<Figure size 432x288 with 1 Axes>"
      ]
     },
     "metadata": {
      "needs_background": "light"
     },
     "output_type": "display_data"
    }
   ],
   "source": [
    "# Scatter plot w/ regression line showing the relationship between 'sugarpercent' and 'winpercent'\n",
    "sns.regplot(x='sugarpercent',y='winpercent',data=candy_data)\n",
    "# Check your answer\n",
    "step_4.a.check()"
   ]
  },
  {
   "cell_type": "code",
   "execution_count": 13,
   "id": "d701e4f9",
   "metadata": {
    "execution": {
     "iopub.execute_input": "2022-01-31T06:32:22.605974Z",
     "iopub.status.busy": "2022-01-31T06:32:22.605261Z",
     "iopub.status.idle": "2022-01-31T06:32:22.609903Z",
     "shell.execute_reply": "2022-01-31T06:32:22.610303Z",
     "shell.execute_reply.started": "2022-01-31T06:21:46.621482Z"
    },
    "papermill": {
     "duration": 0.04223,
     "end_time": "2022-01-31T06:32:22.610482",
     "exception": false,
     "start_time": "2022-01-31T06:32:22.568252",
     "status": "completed"
    },
    "tags": []
   },
   "outputs": [],
   "source": [
    "# Lines below will give you a hint or solution code\n",
    "#step_4.a.hint()\n",
    "#step_4.a.solution_plot()"
   ]
  },
  {
   "cell_type": "markdown",
   "id": "7aff3734",
   "metadata": {
    "papermill": {
     "duration": 0.03035,
     "end_time": "2022-01-31T06:32:22.671462",
     "exception": false,
     "start_time": "2022-01-31T06:32:22.641112",
     "status": "completed"
    },
    "tags": []
   },
   "source": [
    "#### Part B\n",
    "\n",
    "According to the plot above, is there a **slight** correlation between `'winpercent'` and `'sugarpercent'`?  What does this tell you about the candy that people tend to prefer?"
   ]
  },
  {
   "cell_type": "code",
   "execution_count": 14,
   "id": "b4a59d6b",
   "metadata": {
    "execution": {
     "iopub.execute_input": "2022-01-31T06:32:22.734018Z",
     "iopub.status.busy": "2022-01-31T06:32:22.733354Z",
     "iopub.status.idle": "2022-01-31T06:32:23.003652Z",
     "shell.execute_reply": "2022-01-31T06:32:23.003180Z",
     "shell.execute_reply.started": "2022-01-31T06:23:12.195359Z"
    },
    "papermill": {
     "duration": 0.302226,
     "end_time": "2022-01-31T06:32:23.003797",
     "exception": false,
     "start_time": "2022-01-31T06:32:22.701571",
     "status": "completed"
    },
    "tags": []
   },
   "outputs": [
    {
     "data": {
      "text/plain": [
       "<AxesSubplot:xlabel='sugarpercent', ylabel='winpercent'>"
      ]
     },
     "execution_count": 14,
     "metadata": {},
     "output_type": "execute_result"
    },
    {
     "data": {
      "image/png": "[encoded data removed]",
      "text/plain": [
       "<Figure size 432x288 with 1 Axes>"
      ]
     },
     "metadata": {
      "needs_background": "light"
     },
     "output_type": "display_data"
    }
   ],
   "source": [
    "#step_4.b.hint()\n",
    "#people have slight preference for sugar candies\n",
    "sns.regplot(x='sugarpercent',y='winpercent',data=candy_data)"
   ]
  },
  {
   "cell_type": "code",
   "execution_count": 15,
   "id": "c24d6b37",
   "metadata": {
    "execution": {
     "iopub.execute_input": "2022-01-31T06:32:23.070871Z",
     "iopub.status.busy": "2022-01-31T06:32:23.070321Z",
     "iopub.status.idle": "2022-01-31T06:32:23.077001Z",
     "shell.execute_reply": "2022-01-31T06:32:23.077451Z",
     "shell.execute_reply.started": "2022-01-31T06:22:45.057475Z"
    },
    "papermill": {
     "duration": 0.041535,
     "end_time": "2022-01-31T06:32:23.077628",
     "exception": false,
     "start_time": "2022-01-31T06:32:23.036093",
     "status": "completed"
    },
    "tags": []
   },
   "outputs": [
    {
     "data": {
      "application/javascript": [
       "parent.postMessage({\"jupyterEvent\": \"custom.exercise_interaction\", \"data\": {\"interactionType\": 3, \"questionType\": 4, \"questionId\": \"4.2_ThinkBlueReg\", \"learnToolsVersion\": \"0.3.4\", \"valueTowardsCompletion\": 0.0, \"failureMessage\": \"\", \"exceptionClass\": \"\", \"trace\": \"\", \"outcomeType\": 4}}, \"*\")"
      ],
      "text/plain": [
       "<IPython.core.display.Javascript object>"
      ]
     },
     "metadata": {},
     "output_type": "display_data"
    },
    {
     "data": {
      "text/markdown": [
       "<span style=\"color:#33cc99\">Solution:</span> Since the regression line has a slightly positive slope, this tells us that there is a slightly positive correlation between `'winpercent'` and `'sugarpercent'`. Thus, people have a slight preference for candies containing relatively more sugar."
      ],
      "text/plain": [
       "Solution: Since the regression line has a slightly positive slope, this tells us that there is a slightly positive correlation between `'winpercent'` and `'sugarpercent'`. Thus, people have a slight preference for candies containing relatively more sugar."
      ]
     },
     "metadata": {},
     "output_type": "display_data"
    }
   ],
   "source": [
    "# Check your answer (Run this code cell to receive credit!)\n",
    "step_4.b.solution()"
   ]
  },
  {
   "cell_type": "markdown",
   "id": "a96fb2d2",
   "metadata": {
    "papermill": {
     "duration": 0.031016,
     "end_time": "2022-01-31T06:32:23.140905",
     "exception": false,
     "start_time": "2022-01-31T06:32:23.109889",
     "status": "completed"
    },
    "tags": []
   },
   "source": [
    "## Step 5: Chocolate!\n",
    "\n",
    "In the code cell below, create a scatter plot to show the relationship between `'pricepercent'` (on the horizontal x-axis) and `'winpercent'` (on the vertical y-axis). Use the `'chocolate'` column to color-code the points.  _Don't add any regression lines just yet -- you'll do that in the next step!_"
   ]
  },
  {
   "cell_type": "code",
   "execution_count": 16,
   "id": "ef98b333",
   "metadata": {
    "execution": {
     "iopub.execute_input": "2022-01-31T06:32:23.210313Z",
     "iopub.status.busy": "2022-01-31T06:32:23.209755Z",
     "iopub.status.idle": "2022-01-31T06:32:23.480645Z",
     "shell.execute_reply": "2022-01-31T06:32:23.481226Z",
     "shell.execute_reply.started": "2022-01-31T06:25:33.845879Z"
    },
    "papermill": {
     "duration": 0.308598,
     "end_time": "2022-01-31T06:32:23.481414",
     "exception": false,
     "start_time": "2022-01-31T06:32:23.172816",
     "status": "completed"
    },
    "tags": []
   },
   "outputs": [
    {
     "data": {
      "application/javascript": [
       "parent.postMessage({\"jupyterEvent\": \"custom.exercise_interaction\", \"data\": {\"outcomeType\": 1, \"valueTowardsCompletion\": 0.3333333333333333, \"interactionType\": 1, \"questionType\": 2, \"questionId\": \"5_ColorScatter\", \"learnToolsVersion\": \"0.3.4\", \"failureMessage\": \"\", \"exceptionClass\": \"\", \"trace\": \"\"}}, \"*\")"
      ],
      "text/plain": [
       "<IPython.core.display.Javascript object>"
      ]
     },
     "metadata": {},
     "output_type": "display_data"
    },
    {
     "data": {
      "text/markdown": [
       "<span style=\"color:#33cc33\">Correct</span>"
      ],
      "text/plain": [
       "Correct"
      ]
     },
     "metadata": {},
     "output_type": "display_data"
    },
    {
     "data": {
      "image/png": "[encoded data removed]",
      "text/plain": [
       "<Figure size 432x288 with 1 Axes>"
      ]
     },
     "metadata": {
      "needs_background": "light"
     },
     "output_type": "display_data"
    }
   ],
   "source": [
    "# Scatter plot showing the relationship between 'pricepercent', 'winpercent', and 'chocolate'\n",
    "sns.scatterplot(x='pricepercent',y='winpercent',hue ='chocolate',data=candy_data)\n",
    "\n",
    "# Check your answer\n",
    "step_5.check()"
   ]
  },
  {
   "cell_type": "code",
   "execution_count": 17,
   "id": "63676ed5",
   "metadata": {
    "execution": {
     "iopub.execute_input": "2022-01-31T06:32:23.590711Z",
     "iopub.status.busy": "2022-01-31T06:32:23.589740Z",
     "iopub.status.idle": "2022-01-31T06:32:23.593899Z",
     "shell.execute_reply": "2022-01-31T06:32:23.594469Z",
     "shell.execute_reply.started": "2022-01-31T06:25:40.671307Z"
    },
    "papermill": {
     "duration": 0.060219,
     "end_time": "2022-01-31T06:32:23.594667",
     "exception": false,
     "start_time": "2022-01-31T06:32:23.534448",
     "status": "completed"
    },
    "tags": []
   },
   "outputs": [],
   "source": [
    "# Lines below will give you a hint or solution code\n",
    "#step_5.hint()\n",
    "#step_5.solution_plot()"
   ]
  },
  {
   "cell_type": "markdown",
   "id": "c9f663a1",
   "metadata": {
    "papermill": {
     "duration": 0.049314,
     "end_time": "2022-01-31T06:32:23.695929",
     "exception": false,
     "start_time": "2022-01-31T06:32:23.646615",
     "status": "completed"
    },
    "tags": []
   },
   "source": [
    "Can you see any interesting patterns in the scatter plot?  We'll investigate this plot further  by adding regression lines in the next step!\n",
    "\n",
    "## Step 6: Investigate chocolate\n",
    "\n",
    "#### Part A\n",
    "\n",
    "Create the same scatter plot you created in **Step 5**, but now with two regression lines, corresponding to (1) chocolate candies and (2) candies without chocolate."
   ]
  },
  {
   "cell_type": "code",
   "execution_count": 18,
   "id": "c8d747e0",
   "metadata": {
    "execution": {
     "iopub.execute_input": "2022-01-31T06:32:23.804457Z",
     "iopub.status.busy": "2022-01-31T06:32:23.801814Z",
     "iopub.status.idle": "2022-01-31T06:32:24.401428Z",
     "shell.execute_reply": "2022-01-31T06:32:24.400949Z",
     "shell.execute_reply.started": "2022-01-31T06:26:06.228742Z"
    },
    "papermill": {
     "duration": 0.655984,
     "end_time": "2022-01-31T06:32:24.401567",
     "exception": false,
     "start_time": "2022-01-31T06:32:23.745583",
     "status": "completed"
    },
    "tags": []
   },
   "outputs": [
    {
     "data": {
      "application/javascript": [
       "parent.postMessage({\"jupyterEvent\": \"custom.exercise_interaction\", \"data\": {\"outcomeType\": 1, \"valueTowardsCompletion\": 0.3333333333333333, \"interactionType\": 1, \"questionType\": 2, \"questionId\": \"6.1_PlotColorReg\", \"learnToolsVersion\": \"0.3.4\", \"failureMessage\": \"\", \"exceptionClass\": \"\", \"trace\": \"\"}}, \"*\")"
      ],
      "text/plain": [
       "<IPython.core.display.Javascript object>"
      ]
     },
     "metadata": {},
     "output_type": "display_data"
    },
    {
     "data": {
      "text/markdown": [
       "<span style=\"color:#33cc33\">Correct</span>"
      ],
      "text/plain": [
       "Correct"
      ]
     },
     "metadata": {},
     "output_type": "display_data"
    },
    {
     "data": {
      "image/png": "[encoded data removed]",
      "text/plain": [
       "<Figure size 416.375x360 with 1 Axes>"
      ]
     },
     "metadata": {
      "needs_background": "light"
     },
     "output_type": "display_data"
    }
   ],
   "source": [
    "# Color-coded scatter plot w/ regression lines\n",
    "____ # Your code here\n",
    "sns.lmplot(x='pricepercent',y='winpercent',hue ='chocolate',data=candy_data)\n",
    "# Check your answer\n",
    "step_6.a.check()"
   ]
  },
  {
   "cell_type": "code",
   "execution_count": 19,
   "id": "9d3bcbe5",
   "metadata": {
    "execution": {
     "iopub.execute_input": "2022-01-31T06:32:24.485834Z",
     "iopub.status.busy": "2022-01-31T06:32:24.485245Z",
     "iopub.status.idle": "2022-01-31T06:32:24.488228Z",
     "shell.execute_reply": "2022-01-31T06:32:24.488752Z",
     "shell.execute_reply.started": "2022-01-31T06:26:11.659462Z"
    },
    "papermill": {
     "duration": 0.046995,
     "end_time": "2022-01-31T06:32:24.488917",
     "exception": false,
     "start_time": "2022-01-31T06:32:24.441922",
     "status": "completed"
    },
    "tags": []
   },
   "outputs": [],
   "source": [
    "# Lines below will give you a hint or solution code\n",
    "#step_6.a.hint()\n",
    "#step_6.a.solution_plot()"
   ]
  },
  {
   "cell_type": "markdown",
   "id": "3dad3541",
   "metadata": {
    "papermill": {
     "duration": 0.03524,
     "end_time": "2022-01-31T06:32:24.561648",
     "exception": false,
     "start_time": "2022-01-31T06:32:24.526408",
     "status": "completed"
    },
    "tags": []
   },
   "source": [
    "#### Part B\n",
    "\n",
    "Using the regression lines, what conclusions can you draw about the effects of chocolate and price on candy popularity?"
   ]
  },
  {
   "cell_type": "code",
   "execution_count": 20,
   "id": "91ea3bae",
   "metadata": {
    "execution": {
     "iopub.execute_input": "2022-01-31T06:32:24.640617Z",
     "iopub.status.busy": "2022-01-31T06:32:24.640069Z",
     "iopub.status.idle": "2022-01-31T06:32:24.641928Z",
     "shell.execute_reply": "2022-01-31T06:32:24.642397Z",
     "shell.execute_reply.started": "2022-01-31T06:26:36.103421Z"
    },
    "papermill": {
     "duration": 0.041672,
     "end_time": "2022-01-31T06:32:24.642550",
     "exception": false,
     "start_time": "2022-01-31T06:32:24.600878",
     "status": "completed"
    },
    "tags": []
   },
   "outputs": [],
   "source": [
    "#step_6.b.hint()\n",
    "#more chocolate has more win percent"
   ]
  },
  {
   "cell_type": "code",
   "execution_count": 21,
   "id": "4f8f0855",
   "metadata": {
    "execution": {
     "iopub.execute_input": "2022-01-31T06:32:24.726309Z",
     "iopub.status.busy": "2022-01-31T06:32:24.725769Z",
     "iopub.status.idle": "2022-01-31T06:32:24.732247Z",
     "shell.execute_reply": "2022-01-31T06:32:24.732766Z",
     "shell.execute_reply.started": "2022-01-31T06:26:37.184313Z"
    },
    "papermill": {
     "duration": 0.051403,
     "end_time": "2022-01-31T06:32:24.732909",
     "exception": false,
     "start_time": "2022-01-31T06:32:24.681506",
     "status": "completed"
    },
    "tags": []
   },
   "outputs": [
    {
     "data": {
      "application/javascript": [
       "parent.postMessage({\"jupyterEvent\": \"custom.exercise_interaction\", \"data\": {\"interactionType\": 3, \"questionType\": 4, \"questionId\": \"6.2_ThinkColorReg\", \"learnToolsVersion\": \"0.3.4\", \"valueTowardsCompletion\": 0.0, \"failureMessage\": \"\", \"exceptionClass\": \"\", \"trace\": \"\", \"outcomeType\": 4}}, \"*\")"
      ],
      "text/plain": [
       "<IPython.core.display.Javascript object>"
      ]
     },
     "metadata": {},
     "output_type": "display_data"
    },
    {
     "data": {
      "text/markdown": [
       "<span style=\"color:#33cc99\">Solution:</span> We'll begin with the regression line for chocolate candies. Since this line has a slightly positive slope, we can say that more expensive chocolate candies tend to be more popular (than relatively cheaper chocolate candies).  Likewise, since the regression line for candies without chocolate has a negative slope, we can say that if candies don't contain chocolate, they tend to be more popular when they are cheaper.  One important note, however, is that the dataset is quite small -- so we shouldn't invest too much trust in these patterns!  To inspire more confidence in the results, we should add more candies to the dataset."
      ],
      "text/plain": [
       "Solution: We'll begin with the regression line for chocolate candies. Since this line has a slightly positive slope, we can say that more expensive chocolate candies tend to be more popular (than relatively cheaper chocolate candies).  Likewise, since the regression line for candies without chocolate has a negative slope, we can say that if candies don't contain chocolate, they tend to be more popular when they are cheaper.  One important note, however, is that the dataset is quite small -- so we shouldn't invest too much trust in these patterns!  To inspire more confidence in the results, we should add more candies to the dataset."
      ]
     },
     "metadata": {},
     "output_type": "display_data"
    }
   ],
   "source": [
    "# Check your answer (Run this code cell to receive credit!)\n",
    "step_6.b.solution()"
   ]
  },
  {
   "cell_type": "markdown",
   "id": "7ff71562",
   "metadata": {
    "papermill": {
     "duration": 0.040924,
     "end_time": "2022-01-31T06:32:24.812599",
     "exception": false,
     "start_time": "2022-01-31T06:32:24.771675",
     "status": "completed"
    },
    "tags": []
   },
   "source": [
    "## Step 7: Everybody loves chocolate.\n",
    "\n",
    "#### Part A\n",
    "\n",
    "Create a categorical scatter plot to highlight the relationship between `'chocolate'` and `'winpercent'`.  Put `'chocolate'` on the (horizontal) x-axis, and `'winpercent'` on the (vertical) y-axis."
   ]
  },
  {
   "cell_type": "code",
   "execution_count": 22,
   "id": "160513cb",
   "metadata": {
    "execution": {
     "iopub.execute_input": "2022-01-31T06:32:24.893039Z",
     "iopub.status.busy": "2022-01-31T06:32:24.892347Z",
     "iopub.status.idle": "2022-01-31T06:32:25.067260Z",
     "shell.execute_reply": "2022-01-31T06:32:25.066647Z",
     "shell.execute_reply.started": "2022-01-31T06:29:04.508720Z"
    },
    "papermill": {
     "duration": 0.215539,
     "end_time": "2022-01-31T06:32:25.067410",
     "exception": false,
     "start_time": "2022-01-31T06:32:24.851871",
     "status": "completed"
    },
    "tags": []
   },
   "outputs": [
    {
     "data": {
      "application/javascript": [
       "parent.postMessage({\"jupyterEvent\": \"custom.exercise_interaction\", \"data\": {\"outcomeType\": 1, \"valueTowardsCompletion\": 0.3333333333333333, \"interactionType\": 1, \"questionType\": 2, \"questionId\": \"7.1_PlotSwarm\", \"learnToolsVersion\": \"0.3.4\", \"failureMessage\": \"\", \"exceptionClass\": \"\", \"trace\": \"\"}}, \"*\")"
      ],
      "text/plain": [
       "<IPython.core.display.Javascript object>"
      ]
     },
     "metadata": {},
     "output_type": "display_data"
    },
    {
     "data": {
      "text/markdown": [
       "<span style=\"color:#33cc33\">Correct</span>"
      ],
      "text/plain": [
       "Correct"
      ]
     },
     "metadata": {},
     "output_type": "display_data"
    },
    {
     "data": {
      "image/png": "[encoded data removed]",
      "text/plain": [
       "<Figure size 432x288 with 1 Axes>"
      ]
     },
     "metadata": {
      "needs_background": "light"
     },
     "output_type": "display_data"
    }
   ],
   "source": [
    "# Scatter plot showing the relationship between 'chocolate' and 'winpercent'\n",
    "sns.swarmplot(x='chocolate',y='winpercent',data=candy_data)\n",
    "\n",
    "# Check your answer\n",
    "step_7.a.check()"
   ]
  },
  {
   "cell_type": "code",
   "execution_count": 23,
   "id": "be040af2",
   "metadata": {
    "execution": {
     "iopub.execute_input": "2022-01-31T06:32:25.154442Z",
     "iopub.status.busy": "2022-01-31T06:32:25.153650Z",
     "iopub.status.idle": "2022-01-31T06:32:25.156844Z",
     "shell.execute_reply": "2022-01-31T06:32:25.157243Z",
     "shell.execute_reply.started": "2022-01-31T06:29:13.399331Z"
    },
    "papermill": {
     "duration": 0.047494,
     "end_time": "2022-01-31T06:32:25.157415",
     "exception": false,
     "start_time": "2022-01-31T06:32:25.109921",
     "status": "completed"
    },
    "tags": []
   },
   "outputs": [],
   "source": [
    "# Lines below will give you a hint or solution code\n",
    "#step_7.a.hint()\n",
    "#step_7.a.solution_plot()"
   ]
  },
  {
   "cell_type": "markdown",
   "id": "2aa7379a",
   "metadata": {
    "papermill": {
     "duration": 0.039988,
     "end_time": "2022-01-31T06:32:25.237478",
     "exception": false,
     "start_time": "2022-01-31T06:32:25.197490",
     "status": "completed"
    },
    "tags": []
   },
   "source": [
    "#### Part B\n",
    "\n",
    "You decide to dedicate a section of your report to the fact that chocolate candies tend to be more popular than candies without chocolate.  Which plot is more appropriate to tell this story: the plot from **Step 6**, or the plot from **Step 7**?"
   ]
  },
  {
   "cell_type": "code",
   "execution_count": 24,
   "id": "746422f2",
   "metadata": {
    "execution": {
     "iopub.execute_input": "2022-01-31T06:32:25.326958Z",
     "iopub.status.busy": "2022-01-31T06:32:25.326360Z",
     "iopub.status.idle": "2022-01-31T06:32:25.328948Z",
     "shell.execute_reply": "2022-01-31T06:32:25.329337Z",
     "shell.execute_reply.started": "2022-01-31T06:29:47.958312Z"
    },
    "papermill": {
     "duration": 0.050086,
     "end_time": "2022-01-31T06:32:25.329519",
     "exception": false,
     "start_time": "2022-01-31T06:32:25.279433",
     "status": "completed"
    },
    "tags": []
   },
   "outputs": [],
   "source": [
    "#step_7.b.hint()\n",
    "#plot 7"
   ]
  },
  {
   "cell_type": "code",
   "execution_count": 25,
   "id": "a883d532",
   "metadata": {
    "execution": {
     "iopub.execute_input": "2022-01-31T06:32:25.414998Z",
     "iopub.status.busy": "2022-01-31T06:32:25.414273Z",
     "iopub.status.idle": "2022-01-31T06:32:25.422147Z",
     "shell.execute_reply": "2022-01-31T06:32:25.421587Z",
     "shell.execute_reply.started": "2022-01-31T06:29:48.572702Z"
    },
    "papermill": {
     "duration": 0.051392,
     "end_time": "2022-01-31T06:32:25.422272",
     "exception": false,
     "start_time": "2022-01-31T06:32:25.370880",
     "status": "completed"
    },
    "tags": []
   },
   "outputs": [
    {
     "data": {
      "application/javascript": [
       "parent.postMessage({\"jupyterEvent\": \"custom.exercise_interaction\", \"data\": {\"interactionType\": 3, \"questionType\": 4, \"questionId\": \"7.2_ThinkSwarm\", \"learnToolsVersion\": \"0.3.4\", \"valueTowardsCompletion\": 0.0, \"failureMessage\": \"\", \"exceptionClass\": \"\", \"trace\": \"\", \"outcomeType\": 4}}, \"*\")"
      ],
      "text/plain": [
       "<IPython.core.display.Javascript object>"
      ]
     },
     "metadata": {},
     "output_type": "display_data"
    },
    {
     "data": {
      "text/markdown": [
       "<span style=\"color:#33cc99\">Solution:</span> In this case, the categorical scatter plot from **Step 7** is the more appropriate plot. While both plots tell the desired story, the plot from **Step 6** conveys far more information that could distract from the main point."
      ],
      "text/plain": [
       "Solution: In this case, the categorical scatter plot from **Step 7** is the more appropriate plot. While both plots tell the desired story, the plot from **Step 6** conveys far more information that could distract from the main point."
      ]
     },
     "metadata": {},
     "output_type": "display_data"
    }
   ],
   "source": [
    "# Check your answer (Run this code cell to receive credit!)\n",
    "step_7.b.solution()"
   ]
  },
  {
   "cell_type": "markdown",
   "id": "0e5cc97f",
   "metadata": {
    "papermill": {
     "duration": 0.04341,
     "end_time": "2022-01-31T06:32:25.506540",
     "exception": false,
     "start_time": "2022-01-31T06:32:25.463130",
     "status": "completed"
    },
    "tags": []
   },
   "source": [
    "## Keep going\n",
    "\n",
    "Explore **[histograms and density plots](https://www.kaggle.com/alexisbcook/distributions)**."
   ]
  },
  {
   "cell_type": "markdown",
   "id": "36cd96c1",
   "metadata": {
    "papermill": {
     "duration": 0.040125,
     "end_time": "2022-01-31T06:32:25.586932",
     "exception": false,
     "start_time": "2022-01-31T06:32:25.546807",
     "status": "completed"
    },
    "tags": []
   },
   "source": [
    "---\n",
    "\n",
    "\n",
    "\n",
    "\n",
    "*Have questions or comments? Visit the [course discussion forum](https://www.kaggle.com/learn/data-visualization/discussion) to chat with other learners.*"
   ]
  }
 ],
 "metadata": {
  "kernelspec": {
   "display_name": "Python 3",
   "language": "python",
   "name": "python3"
  },
  "language_info": {
   "codemirror_mode": {
    "name": "ipython",
    "version": 3
   },
   "file_extension": ".py",
   "mimetype": "text/x-python",
   "name": "python",
   "nbconvert_exporter": "python",
   "pygments_lexer": "ipython3",
   "version": "3.7.12"
  },
  "papermill": {
   "default_parameters": {},
   "duration": 20.640648,
   "end_time": "2022-01-31T06:32:26.648010",
   "environment_variables": {},
   "exception": null,
   "input_path": "__notebook__.ipynb",
   "output_path": "__notebook__.ipynb",
   "parameters": {},
   "start_time": "2022-01-31T06:32:06.007362",
   "version": "2.3.3"
  }
 },
 "nbformat": 4,
 "nbformat_minor": 5
}
