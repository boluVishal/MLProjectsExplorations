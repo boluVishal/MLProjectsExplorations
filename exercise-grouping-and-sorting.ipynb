{
 "cells": [
  {
   "cell_type": "markdown",
   "id": "b4d44eea",
   "metadata": {
    "papermill": {
     "duration": 0.019227,
     "end_time": "2022-01-27T17:10:26.999800",
     "exception": false,
     "start_time": "2022-01-27T17:10:26.980573",
     "status": "completed"
    },
    "tags": []
   },
   "source": [
    "**This notebook is an exercise in the [Pandas](https://www.kaggle.com/learn/pandas) course.  You can reference the tutorial at [this link](https://www.kaggle.com/residentmario/grouping-and-sorting).**\n",
    "\n",
    "---\n"
   ]
  },
  {
   "cell_type": "markdown",
   "id": "129dec51",
   "metadata": {
    "papermill": {
     "duration": 0.017354,
     "end_time": "2022-01-27T17:10:27.035315",
     "exception": false,
     "start_time": "2022-01-27T17:10:27.017961",
     "status": "completed"
    },
    "tags": []
   },
   "source": [
    "# Introduction\n",
    "\n",
    "In these exercises we'll apply groupwise analysis to our dataset.\n",
    "\n",
    "Run the code cell below to load the data before running the exercises."
   ]
  },
  {
   "cell_type": "code",
   "execution_count": 1,
   "id": "dec9d635",
   "metadata": {
    "execution": {
     "iopub.execute_input": "2022-01-27T17:10:27.085450Z",
     "iopub.status.busy": "2022-01-27T17:10:27.084519Z",
     "iopub.status.idle": "2022-01-27T17:10:30.059536Z",
     "shell.execute_reply": "2022-01-27T17:10:30.058115Z",
     "shell.execute_reply.started": "2022-01-27T16:45:12.241605Z"
    },
    "papermill": {
     "duration": 3.006785,
     "end_time": "2022-01-27T17:10:30.059788",
     "exception": false,
     "start_time": "2022-01-27T17:10:27.053003",
     "status": "completed"
    },
    "tags": []
   },
   "outputs": [
    {
     "name": "stdout",
     "output_type": "stream",
     "text": [
      "Setup complete.\n"
     ]
    }
   ],
   "source": [
    "import pandas as pd\n",
    "\n",
    "reviews = pd.read_csv(\"../input/wine-reviews/winemag-data-130k-v2.csv\", index_col=0)\n",
    "#pd.set_option(\"display.max_rows\", 5)\n",
    "\n",
    "from learntools.core import binder; binder.bind(globals())\n",
    "from learntools.pandas.grouping_and_sorting import *\n",
    "print(\"Setup complete.\")"
   ]
  },
  {
   "cell_type": "markdown",
   "id": "6034a259",
   "metadata": {
    "papermill": {
     "duration": 0.017827,
     "end_time": "2022-01-27T17:10:30.096921",
     "exception": false,
     "start_time": "2022-01-27T17:10:30.079094",
     "status": "completed"
    },
    "tags": []
   },
   "source": [
    "# Exercises"
   ]
  },
  {
   "cell_type": "markdown",
   "id": "c14e5822",
   "metadata": {
    "papermill": {
     "duration": 0.017805,
     "end_time": "2022-01-27T17:10:30.132863",
     "exception": false,
     "start_time": "2022-01-27T17:10:30.115058",
     "status": "completed"
    },
    "tags": []
   },
   "source": [
    "## 1.\n",
    "Who are the most common wine reviewers in the dataset? Create a `Series` whose index is the `taster_twitter_handle` category from the dataset, and whose values count how many reviews each person wrote."
   ]
  },
  {
   "cell_type": "code",
   "execution_count": 2,
   "id": "9d6c9270",
   "metadata": {
    "execution": {
     "iopub.execute_input": "2022-01-27T17:10:30.173034Z",
     "iopub.status.busy": "2022-01-27T17:10:30.171996Z",
     "iopub.status.idle": "2022-01-27T17:10:30.201438Z",
     "shell.execute_reply": "2022-01-27T17:10:30.202042Z",
     "shell.execute_reply.started": "2022-01-27T16:45:15.355549Z"
    },
    "papermill": {
     "duration": 0.051315,
     "end_time": "2022-01-27T17:10:30.202212",
     "exception": false,
     "start_time": "2022-01-27T17:10:30.150897",
     "status": "completed"
    },
    "tags": []
   },
   "outputs": [
    {
     "data": {
      "application/javascript": [
       "parent.postMessage({\"jupyterEvent\": \"custom.exercise_interaction\", \"data\": {\"outcomeType\": 1, \"valueTowardsCompletion\": 0.16666666666666666, \"interactionType\": 1, \"questionType\": 1, \"questionId\": \"1_ReviewsWritten\", \"learnToolsVersion\": \"0.3.4\", \"failureMessage\": \"\", \"exceptionClass\": \"\", \"trace\": \"\"}}, \"*\")"
      ],
      "text/plain": [
       "<IPython.core.display.Javascript object>"
      ]
     },
     "metadata": {},
     "output_type": "display_data"
    },
    {
     "data": {
      "text/markdown": [
       "<span style=\"color:#33cc33\">Correct:</span> \n",
       "\n",
       "\n",
       "```python\n",
       "reviews_written = reviews.groupby('taster_twitter_handle').size()\n",
       "```\n",
       "or\n",
       "```python\n",
       "reviews_written = reviews.groupby('taster_twitter_handle').taster_twitter_handle.count()\n",
       "```\n"
      ],
      "text/plain": [
       "Correct: \n",
       "\n",
       "\n",
       "```python\n",
       "reviews_written = reviews.groupby('taster_twitter_handle').size()\n",
       "```\n",
       "or\n",
       "```python\n",
       "reviews_written = reviews.groupby('taster_twitter_handle').taster_twitter_handle.count()\n",
       "```"
      ]
     },
     "metadata": {},
     "output_type": "display_data"
    }
   ],
   "source": [
    "# Your code here\n",
    "reviews_written = reviews.groupby('taster_twitter_handle').size()\n",
    "\n",
    "# Check your answer\n",
    "q1.check()\n",
    "#reviews_written"
   ]
  },
  {
   "cell_type": "code",
   "execution_count": 3,
   "id": "203fdafc",
   "metadata": {
    "execution": {
     "iopub.execute_input": "2022-01-27T17:10:30.246036Z",
     "iopub.status.busy": "2022-01-27T17:10:30.245321Z",
     "iopub.status.idle": "2022-01-27T17:10:30.248332Z",
     "shell.execute_reply": "2022-01-27T17:10:30.248891Z",
     "shell.execute_reply.started": "2022-01-27T16:45:15.388835Z"
    },
    "papermill": {
     "duration": 0.027356,
     "end_time": "2022-01-27T17:10:30.249085",
     "exception": false,
     "start_time": "2022-01-27T17:10:30.221729",
     "status": "completed"
    },
    "tags": []
   },
   "outputs": [],
   "source": [
    "#q1.hint()\n",
    "#q1.solution()"
   ]
  },
  {
   "cell_type": "markdown",
   "id": "c874812c",
   "metadata": {
    "papermill": {
     "duration": 0.018829,
     "end_time": "2022-01-27T17:10:30.287743",
     "exception": false,
     "start_time": "2022-01-27T17:10:30.268914",
     "status": "completed"
    },
    "tags": []
   },
   "source": [
    "## 2.\n",
    "What is the best wine I can buy for a given amount of money? Create a `Series` whose index is wine prices and whose values is the maximum number of points a wine costing that much was given in a review. Sort the values by price, ascending (so that `4.0` dollars is at the top and `3300.0` dollars is at the bottom)."
   ]
  },
  {
   "cell_type": "code",
   "execution_count": 4,
   "id": "573a97cf",
   "metadata": {
    "execution": {
     "iopub.execute_input": "2022-01-27T17:10:30.332010Z",
     "iopub.status.busy": "2022-01-27T17:10:30.331268Z",
     "iopub.status.idle": "2022-01-27T17:10:30.341655Z",
     "shell.execute_reply": "2022-01-27T17:10:30.341111Z",
     "shell.execute_reply.started": "2022-01-27T16:45:15.394723Z"
    },
    "papermill": {
     "duration": 0.03498,
     "end_time": "2022-01-27T17:10:30.341799",
     "exception": false,
     "start_time": "2022-01-27T17:10:30.306819",
     "status": "completed"
    },
    "tags": []
   },
   "outputs": [
    {
     "data": {
      "application/javascript": [
       "parent.postMessage({\"jupyterEvent\": \"custom.exercise_interaction\", \"data\": {\"outcomeType\": 1, \"valueTowardsCompletion\": 0.16666666666666666, \"interactionType\": 1, \"questionType\": 1, \"questionId\": \"2_BestRatingPerPrice\", \"learnToolsVersion\": \"0.3.4\", \"failureMessage\": \"\", \"exceptionClass\": \"\", \"trace\": \"\"}}, \"*\")"
      ],
      "text/plain": [
       "<IPython.core.display.Javascript object>"
      ]
     },
     "metadata": {},
     "output_type": "display_data"
    },
    {
     "data": {
      "text/markdown": [
       "<span style=\"color:#33cc33\">Correct</span>"
      ],
      "text/plain": [
       "Correct"
      ]
     },
     "metadata": {},
     "output_type": "display_data"
    }
   ],
   "source": [
    "best_rating_per_price = reviews.groupby('price').points.max().sort_index()\n",
    "\n",
    "# Check your answer\n",
    "q2.check()"
   ]
  },
  {
   "cell_type": "code",
   "execution_count": 5,
   "id": "fc9bed75",
   "metadata": {
    "execution": {
     "iopub.execute_input": "2022-01-27T17:10:30.386382Z",
     "iopub.status.busy": "2022-01-27T17:10:30.385736Z",
     "iopub.status.idle": "2022-01-27T17:10:30.389269Z",
     "shell.execute_reply": "2022-01-27T17:10:30.389886Z",
     "shell.execute_reply.started": "2022-01-27T16:45:15.415837Z"
    },
    "papermill": {
     "duration": 0.027907,
     "end_time": "2022-01-27T17:10:30.390059",
     "exception": false,
     "start_time": "2022-01-27T17:10:30.362152",
     "status": "completed"
    },
    "tags": []
   },
   "outputs": [],
   "source": [
    "#q2.hint()\n",
    "#q2.solution()"
   ]
  },
  {
   "cell_type": "markdown",
   "id": "85124ac2",
   "metadata": {
    "papermill": {
     "duration": 0.019976,
     "end_time": "2022-01-27T17:10:30.430835",
     "exception": false,
     "start_time": "2022-01-27T17:10:30.410859",
     "status": "completed"
    },
    "tags": []
   },
   "source": [
    "## 3.\n",
    "What are the minimum and maximum prices for each `variety` of wine? Create a `DataFrame` whose index is the `variety` category from the dataset and whose values are the `min` and `max` values thereof."
   ]
  },
  {
   "cell_type": "code",
   "execution_count": 6,
   "id": "7d73af43",
   "metadata": {
    "execution": {
     "iopub.execute_input": "2022-01-27T17:10:30.483688Z",
     "iopub.status.busy": "2022-01-27T17:10:30.482964Z",
     "iopub.status.idle": "2022-01-27T17:10:30.504196Z",
     "shell.execute_reply": "2022-01-27T17:10:30.504999Z",
     "shell.execute_reply.started": "2022-01-27T16:47:45.866249Z"
    },
    "papermill": {
     "duration": 0.053474,
     "end_time": "2022-01-27T17:10:30.505191",
     "exception": false,
     "start_time": "2022-01-27T17:10:30.451717",
     "status": "completed"
    },
    "tags": []
   },
   "outputs": [
    {
     "data": {
      "application/javascript": [
       "parent.postMessage({\"jupyterEvent\": \"custom.exercise_interaction\", \"data\": {\"outcomeType\": 1, \"valueTowardsCompletion\": 0.16666666666666666, \"interactionType\": 1, \"questionType\": 1, \"questionId\": \"3_PriceExtremes\", \"learnToolsVersion\": \"0.3.4\", \"failureMessage\": \"\", \"exceptionClass\": \"\", \"trace\": \"\"}}, \"*\")"
      ],
      "text/plain": [
       "<IPython.core.display.Javascript object>"
      ]
     },
     "metadata": {},
     "output_type": "display_data"
    },
    {
     "data": {
      "text/markdown": [
       "<span style=\"color:#33cc33\">Correct</span>"
      ],
      "text/plain": [
       "Correct"
      ]
     },
     "metadata": {},
     "output_type": "display_data"
    }
   ],
   "source": [
    "price_extremes = reviews.groupby('variety').price.agg([min,max])\n",
    "\n",
    "# Check your answer\n",
    "q3.check()"
   ]
  },
  {
   "cell_type": "code",
   "execution_count": 7,
   "id": "2a4bae05",
   "metadata": {
    "execution": {
     "iopub.execute_input": "2022-01-27T17:10:30.550799Z",
     "iopub.status.busy": "2022-01-27T17:10:30.550143Z",
     "iopub.status.idle": "2022-01-27T17:10:30.553254Z",
     "shell.execute_reply": "2022-01-27T17:10:30.553910Z",
     "shell.execute_reply.started": "2022-01-27T16:47:49.079626Z"
    },
    "papermill": {
     "duration": 0.027711,
     "end_time": "2022-01-27T17:10:30.554097",
     "exception": false,
     "start_time": "2022-01-27T17:10:30.526386",
     "status": "completed"
    },
    "tags": []
   },
   "outputs": [],
   "source": [
    "#q3.hint()\n",
    "#q3.solution()"
   ]
  },
  {
   "cell_type": "markdown",
   "id": "470dbada",
   "metadata": {
    "papermill": {
     "duration": 0.021404,
     "end_time": "2022-01-27T17:10:30.596929",
     "exception": false,
     "start_time": "2022-01-27T17:10:30.575525",
     "status": "completed"
    },
    "tags": []
   },
   "source": [
    "## 4.\n",
    "What are the most expensive wine varieties? Create a variable `sorted_varieties` containing a copy of the dataframe from the previous question where varieties are sorted in descending order based on minimum price, then on maximum price (to break ties)."
   ]
  },
  {
   "cell_type": "code",
   "execution_count": 8,
   "id": "7c1e5f33",
   "metadata": {
    "execution": {
     "iopub.execute_input": "2022-01-27T17:10:30.647061Z",
     "iopub.status.busy": "2022-01-27T17:10:30.646231Z",
     "iopub.status.idle": "2022-01-27T17:10:30.653300Z",
     "shell.execute_reply": "2022-01-27T17:10:30.653897Z",
     "shell.execute_reply.started": "2022-01-27T16:54:17.783415Z"
    },
    "papermill": {
     "duration": 0.0355,
     "end_time": "2022-01-27T17:10:30.654179",
     "exception": false,
     "start_time": "2022-01-27T17:10:30.618679",
     "status": "completed"
    },
    "tags": []
   },
   "outputs": [
    {
     "data": {
      "application/javascript": [
       "parent.postMessage({\"jupyterEvent\": \"custom.exercise_interaction\", \"data\": {\"outcomeType\": 1, \"valueTowardsCompletion\": 0.16666666666666666, \"interactionType\": 1, \"questionType\": 1, \"questionId\": \"4_SortedVarieties\", \"learnToolsVersion\": \"0.3.4\", \"failureMessage\": \"\", \"exceptionClass\": \"\", \"trace\": \"\"}}, \"*\")"
      ],
      "text/plain": [
       "<IPython.core.display.Javascript object>"
      ]
     },
     "metadata": {},
     "output_type": "display_data"
    },
    {
     "data": {
      "text/markdown": [
       "<span style=\"color:#33cc33\">Correct</span>"
      ],
      "text/plain": [
       "Correct"
      ]
     },
     "metadata": {},
     "output_type": "display_data"
    }
   ],
   "source": [
    "sorted_varieties = price_extremes.sort_values(by=['min','max'],ascending=False)\n",
    "\n",
    "# Check your answer\n",
    "q4.check()"
   ]
  },
  {
   "cell_type": "code",
   "execution_count": 9,
   "id": "ed86dd63",
   "metadata": {
    "execution": {
     "iopub.execute_input": "2022-01-27T17:10:30.701621Z",
     "iopub.status.busy": "2022-01-27T17:10:30.700906Z",
     "iopub.status.idle": "2022-01-27T17:10:30.703970Z",
     "shell.execute_reply": "2022-01-27T17:10:30.704531Z",
     "shell.execute_reply.started": "2022-01-27T16:54:21.181144Z"
    },
    "papermill": {
     "duration": 0.028389,
     "end_time": "2022-01-27T17:10:30.704702",
     "exception": false,
     "start_time": "2022-01-27T17:10:30.676313",
     "status": "completed"
    },
    "tags": []
   },
   "outputs": [],
   "source": [
    "#q4.hint()\n",
    "#q4.solution()"
   ]
  },
  {
   "cell_type": "markdown",
   "id": "7d92e477",
   "metadata": {
    "papermill": {
     "duration": 0.02312,
     "end_time": "2022-01-27T17:10:30.749852",
     "exception": false,
     "start_time": "2022-01-27T17:10:30.726732",
     "status": "completed"
    },
    "tags": []
   },
   "source": [
    "## 5.\n",
    "Create a `Series` whose index is reviewers and whose values is the average review score given out by that reviewer. Hint: you will need the `taster_name` and `points` columns."
   ]
  },
  {
   "cell_type": "code",
   "execution_count": 10,
   "id": "11abff23",
   "metadata": {
    "execution": {
     "iopub.execute_input": "2022-01-27T17:10:30.797722Z",
     "iopub.status.busy": "2022-01-27T17:10:30.797007Z",
     "iopub.status.idle": "2022-01-27T17:10:30.822741Z",
     "shell.execute_reply": "2022-01-27T17:10:30.823307Z",
     "shell.execute_reply.started": "2022-01-27T17:04:53.572341Z"
    },
    "papermill": {
     "duration": 0.0512,
     "end_time": "2022-01-27T17:10:30.823504",
     "exception": false,
     "start_time": "2022-01-27T17:10:30.772304",
     "status": "completed"
    },
    "tags": []
   },
   "outputs": [
    {
     "data": {
      "application/javascript": [
       "parent.postMessage({\"jupyterEvent\": \"custom.exercise_interaction\", \"data\": {\"outcomeType\": 1, \"valueTowardsCompletion\": 0.16666666666666666, \"interactionType\": 1, \"questionType\": 1, \"questionId\": \"5_ReviewerMeanRatings\", \"learnToolsVersion\": \"0.3.4\", \"failureMessage\": \"\", \"exceptionClass\": \"\", \"trace\": \"\"}}, \"*\")"
      ],
      "text/plain": [
       "<IPython.core.display.Javascript object>"
      ]
     },
     "metadata": {},
     "output_type": "display_data"
    },
    {
     "data": {
      "text/markdown": [
       "<span style=\"color:#33cc33\">Correct</span>"
      ],
      "text/plain": [
       "Correct"
      ]
     },
     "metadata": {},
     "output_type": "display_data"
    }
   ],
   "source": [
    "reviewer_mean_ratings = reviews.groupby(['taster_name']).points.mean()\n",
    "\n",
    "# Check your answer\n",
    "q5.check()"
   ]
  },
  {
   "cell_type": "code",
   "execution_count": 11,
   "id": "4acb7315",
   "metadata": {
    "execution": {
     "iopub.execute_input": "2022-01-27T17:10:30.874059Z",
     "iopub.status.busy": "2022-01-27T17:10:30.873302Z",
     "iopub.status.idle": "2022-01-27T17:10:30.876383Z",
     "shell.execute_reply": "2022-01-27T17:10:30.876980Z",
     "shell.execute_reply.started": "2022-01-27T17:04:56.558805Z"
    },
    "papermill": {
     "duration": 0.029664,
     "end_time": "2022-01-27T17:10:30.877150",
     "exception": false,
     "start_time": "2022-01-27T17:10:30.847486",
     "status": "completed"
    },
    "tags": []
   },
   "outputs": [],
   "source": [
    "#q5.hint()\n",
    "#q5.solution()"
   ]
  },
  {
   "cell_type": "markdown",
   "id": "f1cee911",
   "metadata": {
    "papermill": {
     "duration": 0.022776,
     "end_time": "2022-01-27T17:10:30.922928",
     "exception": false,
     "start_time": "2022-01-27T17:10:30.900152",
     "status": "completed"
    },
    "tags": []
   },
   "source": [
    "Are there significant differences in the average scores assigned by the various reviewers? Run the cell below to use the `describe()` method to see a summary of the range of values."
   ]
  },
  {
   "cell_type": "code",
   "execution_count": 12,
   "id": "9bbaffd4",
   "metadata": {
    "execution": {
     "iopub.execute_input": "2022-01-27T17:10:30.972054Z",
     "iopub.status.busy": "2022-01-27T17:10:30.971366Z",
     "iopub.status.idle": "2022-01-27T17:10:30.982512Z",
     "shell.execute_reply": "2022-01-27T17:10:30.983061Z"
    },
    "papermill": {
     "duration": 0.037294,
     "end_time": "2022-01-27T17:10:30.983226",
     "exception": false,
     "start_time": "2022-01-27T17:10:30.945932",
     "status": "completed"
    },
    "tags": []
   },
   "outputs": [
    {
     "data": {
      "text/plain": [
       "count    19.000000\n",
       "mean     88.233026\n",
       "std       1.243610\n",
       "min      85.855422\n",
       "25%      87.323501\n",
       "50%      88.536235\n",
       "75%      88.975256\n",
       "max      90.562551\n",
       "Name: points, dtype: float64"
      ]
     },
     "execution_count": 12,
     "metadata": {},
     "output_type": "execute_result"
    }
   ],
   "source": [
    "reviewer_mean_ratings.describe()"
   ]
  },
  {
   "cell_type": "markdown",
   "id": "204b66f4",
   "metadata": {
    "papermill": {
     "duration": 0.022964,
     "end_time": "2022-01-27T17:10:31.029594",
     "exception": false,
     "start_time": "2022-01-27T17:10:31.006630",
     "status": "completed"
    },
    "tags": []
   },
   "source": [
    "## 6.\n",
    "What combination of countries and varieties are most common? Create a `Series` whose index is a `MultiIndex`of `{country, variety}` pairs. For example, a pinot noir produced in the US should map to `{\"US\", \"Pinot Noir\"}`. Sort the values in the `Series` in descending order based on wine count."
   ]
  },
  {
   "cell_type": "code",
   "execution_count": 13,
   "id": "07a66000",
   "metadata": {
    "execution": {
     "iopub.execute_input": "2022-01-27T17:10:31.080664Z",
     "iopub.status.busy": "2022-01-27T17:10:31.079942Z",
     "iopub.status.idle": "2022-01-27T17:10:31.126866Z",
     "shell.execute_reply": "2022-01-27T17:10:31.128023Z",
     "shell.execute_reply.started": "2022-01-27T17:09:49.730720Z"
    },
    "papermill": {
     "duration": 0.074472,
     "end_time": "2022-01-27T17:10:31.128208",
     "exception": false,
     "start_time": "2022-01-27T17:10:31.053736",
     "status": "completed"
    },
    "tags": []
   },
   "outputs": [
    {
     "data": {
      "application/javascript": [
       "parent.postMessage({\"jupyterEvent\": \"custom.exercise_interaction\", \"data\": {\"outcomeType\": 1, \"valueTowardsCompletion\": 0.16666666666666666, \"interactionType\": 1, \"questionType\": 1, \"questionId\": \"6_GroupbyCountryVariety\", \"learnToolsVersion\": \"0.3.4\", \"failureMessage\": \"\", \"exceptionClass\": \"\", \"trace\": \"\"}}, \"*\")"
      ],
      "text/plain": [
       "<IPython.core.display.Javascript object>"
      ]
     },
     "metadata": {},
     "output_type": "display_data"
    },
    {
     "data": {
      "text/markdown": [
       "<span style=\"color:#33cc33\">Correct</span>"
      ],
      "text/plain": [
       "Correct"
      ]
     },
     "metadata": {},
     "output_type": "display_data"
    }
   ],
   "source": [
    "country_variety_counts = reviews.groupby(['country', 'variety']).size().sort_values(ascending=False)\n",
    "\n",
    "# Check your answer\n",
    "q6.check()"
   ]
  },
  {
   "cell_type": "code",
   "execution_count": 14,
   "id": "a7249148",
   "metadata": {
    "execution": {
     "iopub.execute_input": "2022-01-27T17:10:31.182603Z",
     "iopub.status.busy": "2022-01-27T17:10:31.181848Z",
     "iopub.status.idle": "2022-01-27T17:10:31.184071Z",
     "shell.execute_reply": "2022-01-27T17:10:31.183428Z",
     "shell.execute_reply.started": "2022-01-27T17:09:53.342636Z"
    },
    "papermill": {
     "duration": 0.031186,
     "end_time": "2022-01-27T17:10:31.184214",
     "exception": false,
     "start_time": "2022-01-27T17:10:31.153028",
     "status": "completed"
    },
    "tags": []
   },
   "outputs": [],
   "source": [
    "#q6.hint()\n",
    "#q6.solution()"
   ]
  },
  {
   "cell_type": "markdown",
   "id": "5f09b911",
   "metadata": {
    "papermill": {
     "duration": 0.024146,
     "end_time": "2022-01-27T17:10:31.233027",
     "exception": false,
     "start_time": "2022-01-27T17:10:31.208881",
     "status": "completed"
    },
    "tags": []
   },
   "source": [
    "# Keep going\n",
    "\n",
    "Move on to the [**data types and missing data**](https://www.kaggle.com/residentmario/data-types-and-missing-values)."
   ]
  },
  {
   "cell_type": "markdown",
   "id": "6173b701",
   "metadata": {
    "papermill": {
     "duration": 0.025578,
     "end_time": "2022-01-27T17:10:31.283156",
     "exception": false,
     "start_time": "2022-01-27T17:10:31.257578",
     "status": "completed"
    },
    "tags": []
   },
   "source": [
    "---\n",
    "\n",
    "\n",
    "\n",
    "\n",
    "*Have questions or comments? Visit the [course discussion forum](https://www.kaggle.com/learn/pandas/discussion) to chat with other learners.*"
   ]
  }
 ],
 "metadata": {
  "kernelspec": {
   "display_name": "Python 3",
   "language": "python",
   "name": "python3"
  },
  "language_info": {
   "codemirror_mode": {
    "name": "ipython",
    "version": 3
   },
   "file_extension": ".py",
   "mimetype": "text/x-python",
   "name": "python",
   "nbconvert_exporter": "python",
   "pygments_lexer": "ipython3",
   "version": "3.7.12"
  },
  "papermill": {
   "default_parameters": {},
   "duration": 15.997239,
   "end_time": "2022-01-27T17:10:32.017614",
   "environment_variables": {},
   "exception": null,
   "input_path": "__notebook__.ipynb",
   "output_path": "__notebook__.ipynb",
   "parameters": {},
   "start_time": "2022-01-27T17:10:16.020375",
   "version": "2.3.3"
  }
 },
 "nbformat": 4,
 "nbformat_minor": 5
}
