{
 "cells": [
  {
   "cell_type": "markdown",
   "id": "eb88fddd",
   "metadata": {
    "papermill": {
     "duration": 0.016421,
     "end_time": "2022-01-27T17:26:22.872720",
     "exception": false,
     "start_time": "2022-01-27T17:26:22.856299",
     "status": "completed"
    },
    "tags": []
   },
   "source": [
    "**This notebook is an exercise in the [Pandas](https://www.kaggle.com/learn/pandas) course.  You can reference the tutorial at [this link](https://www.kaggle.com/residentmario/data-types-and-missing-values).**\n",
    "\n",
    "---\n"
   ]
  },
  {
   "cell_type": "markdown",
   "id": "c3c0e57e",
   "metadata": {
    "papermill": {
     "duration": 0.015103,
     "end_time": "2022-01-27T17:26:22.903383",
     "exception": false,
     "start_time": "2022-01-27T17:26:22.888280",
     "status": "completed"
    },
    "tags": []
   },
   "source": [
    "# Introduction\n",
    "\n",
    "Run the following cell to load your data and some utility functions."
   ]
  },
  {
   "cell_type": "code",
   "execution_count": 1,
   "id": "518d39aa",
   "metadata": {
    "execution": {
     "iopub.execute_input": "2022-01-27T17:26:22.943718Z",
     "iopub.status.busy": "2022-01-27T17:26:22.943065Z",
     "iopub.status.idle": "2022-01-27T17:26:25.695096Z",
     "shell.execute_reply": "2022-01-27T17:26:25.694435Z",
     "shell.execute_reply.started": "2022-01-27T17:16:40.449236Z"
    },
    "papermill": {
     "duration": 2.775316,
     "end_time": "2022-01-27T17:26:25.695268",
     "exception": false,
     "start_time": "2022-01-27T17:26:22.919952",
     "status": "completed"
    },
    "tags": []
   },
   "outputs": [
    {
     "name": "stdout",
     "output_type": "stream",
     "text": [
      "Setup complete.\n"
     ]
    }
   ],
   "source": [
    "import pandas as pd\n",
    "\n",
    "reviews = pd.read_csv(\"../input/wine-reviews/winemag-data-130k-v2.csv\", index_col=0)\n",
    "\n",
    "from learntools.core import binder; binder.bind(globals())\n",
    "from learntools.pandas.data_types_and_missing_data import *\n",
    "print(\"Setup complete.\")"
   ]
  },
  {
   "cell_type": "markdown",
   "id": "bb4840c6",
   "metadata": {
    "papermill": {
     "duration": 0.009989,
     "end_time": "2022-01-27T17:26:25.716290",
     "exception": false,
     "start_time": "2022-01-27T17:26:25.706301",
     "status": "completed"
    },
    "tags": []
   },
   "source": [
    "# Exercises"
   ]
  },
  {
   "cell_type": "markdown",
   "id": "e7b6a4a9",
   "metadata": {
    "papermill": {
     "duration": 0.010257,
     "end_time": "2022-01-27T17:26:25.737144",
     "exception": false,
     "start_time": "2022-01-27T17:26:25.726887",
     "status": "completed"
    },
    "tags": []
   },
   "source": [
    "## 1. \n",
    "What is the data type of the `points` column in the dataset?"
   ]
  },
  {
   "cell_type": "code",
   "execution_count": 2,
   "id": "4d38cbb0",
   "metadata": {
    "execution": {
     "iopub.execute_input": "2022-01-27T17:26:25.761405Z",
     "iopub.status.busy": "2022-01-27T17:26:25.760759Z",
     "iopub.status.idle": "2022-01-27T17:26:25.772019Z",
     "shell.execute_reply": "2022-01-27T17:26:25.772597Z",
     "shell.execute_reply.started": "2022-01-27T17:16:43.700264Z"
    },
    "papermill": {
     "duration": 0.025061,
     "end_time": "2022-01-27T17:26:25.772748",
     "exception": false,
     "start_time": "2022-01-27T17:26:25.747687",
     "status": "completed"
    },
    "tags": []
   },
   "outputs": [
    {
     "data": {
      "application/javascript": [
       "parent.postMessage({\"jupyterEvent\": \"custom.exercise_interaction\", \"data\": {\"outcomeType\": 1, \"valueTowardsCompletion\": 0.25, \"interactionType\": 1, \"questionType\": 1, \"questionId\": \"1_PointsDtype\", \"learnToolsVersion\": \"0.3.4\", \"failureMessage\": \"\", \"exceptionClass\": \"\", \"trace\": \"\"}}, \"*\")"
      ],
      "text/plain": [
       "<IPython.core.display.Javascript object>"
      ]
     },
     "metadata": {},
     "output_type": "display_data"
    },
    {
     "data": {
      "text/markdown": [
       "<span style=\"color:#33cc33\">Correct</span>"
      ],
      "text/plain": [
       "Correct"
      ]
     },
     "metadata": {},
     "output_type": "display_data"
    }
   ],
   "source": [
    "# Your code here\n",
    "dtype = reviews.points.dtype\n",
    "\n",
    "# Check your answer\n",
    "q1.check()"
   ]
  },
  {
   "cell_type": "code",
   "execution_count": 3,
   "id": "788fd134",
   "metadata": {
    "execution": {
     "iopub.execute_input": "2022-01-27T17:26:25.799530Z",
     "iopub.status.busy": "2022-01-27T17:26:25.798901Z",
     "iopub.status.idle": "2022-01-27T17:26:25.802271Z",
     "shell.execute_reply": "2022-01-27T17:26:25.802886Z",
     "shell.execute_reply.started": "2022-01-27T17:17:01.510096Z"
    },
    "papermill": {
     "duration": 0.017892,
     "end_time": "2022-01-27T17:26:25.803037",
     "exception": false,
     "start_time": "2022-01-27T17:26:25.785145",
     "status": "completed"
    },
    "tags": []
   },
   "outputs": [],
   "source": [
    "#q1.hint()\n",
    "#q1.solution()"
   ]
  },
  {
   "cell_type": "markdown",
   "id": "c79d44b4",
   "metadata": {
    "papermill": {
     "duration": 0.017226,
     "end_time": "2022-01-27T17:26:25.838194",
     "exception": false,
     "start_time": "2022-01-27T17:26:25.820968",
     "status": "completed"
    },
    "tags": []
   },
   "source": [
    "## 2. \n",
    "Create a Series from entries in the `points` column, but convert the entries to strings. Hint: strings are `str` in native Python."
   ]
  },
  {
   "cell_type": "code",
   "execution_count": 4,
   "id": "019cb522",
   "metadata": {
    "execution": {
     "iopub.execute_input": "2022-01-27T17:26:25.877686Z",
     "iopub.status.busy": "2022-01-27T17:26:25.876966Z",
     "iopub.status.idle": "2022-01-27T17:26:26.006934Z",
     "shell.execute_reply": "2022-01-27T17:26:26.006238Z",
     "shell.execute_reply.started": "2022-01-27T17:18:47.847842Z"
    },
    "papermill": {
     "duration": 0.151454,
     "end_time": "2022-01-27T17:26:26.007077",
     "exception": false,
     "start_time": "2022-01-27T17:26:25.855623",
     "status": "completed"
    },
    "tags": []
   },
   "outputs": [
    {
     "data": {
      "application/javascript": [
       "parent.postMessage({\"jupyterEvent\": \"custom.exercise_interaction\", \"data\": {\"outcomeType\": 1, \"valueTowardsCompletion\": 0.25, \"interactionType\": 1, \"questionType\": 1, \"questionId\": \"2_StrPoints\", \"learnToolsVersion\": \"0.3.4\", \"failureMessage\": \"\", \"exceptionClass\": \"\", \"trace\": \"\"}}, \"*\")"
      ],
      "text/plain": [
       "<IPython.core.display.Javascript object>"
      ]
     },
     "metadata": {},
     "output_type": "display_data"
    },
    {
     "data": {
      "text/markdown": [
       "<span style=\"color:#33cc33\">Correct</span>"
      ],
      "text/plain": [
       "Correct"
      ]
     },
     "metadata": {},
     "output_type": "display_data"
    }
   ],
   "source": [
    "point_strings = reviews.points.astype(str)\n",
    "\n",
    "# Check your answer\n",
    "q2.check()"
   ]
  },
  {
   "cell_type": "code",
   "execution_count": 5,
   "id": "7acfa25e",
   "metadata": {
    "execution": {
     "iopub.execute_input": "2022-01-27T17:26:26.047450Z",
     "iopub.status.busy": "2022-01-27T17:26:26.046666Z",
     "iopub.status.idle": "2022-01-27T17:26:26.050056Z",
     "shell.execute_reply": "2022-01-27T17:26:26.050641Z"
    },
    "papermill": {
     "duration": 0.024978,
     "end_time": "2022-01-27T17:26:26.050805",
     "exception": false,
     "start_time": "2022-01-27T17:26:26.025827",
     "status": "completed"
    },
    "tags": []
   },
   "outputs": [],
   "source": [
    "#q2.hint()\n",
    "#q2.solution()"
   ]
  },
  {
   "cell_type": "markdown",
   "id": "7ef33b7c",
   "metadata": {
    "papermill": {
     "duration": 0.018694,
     "end_time": "2022-01-27T17:26:26.089845",
     "exception": false,
     "start_time": "2022-01-27T17:26:26.071151",
     "status": "completed"
    },
    "tags": []
   },
   "source": [
    "## 3.\n",
    "Sometimes the price column is null. How many reviews in the dataset are missing a price?"
   ]
  },
  {
   "cell_type": "code",
   "execution_count": 6,
   "id": "d0a5f1f6",
   "metadata": {
    "execution": {
     "iopub.execute_input": "2022-01-27T17:26:26.132296Z",
     "iopub.status.busy": "2022-01-27T17:26:26.131599Z",
     "iopub.status.idle": "2022-01-27T17:26:26.138300Z",
     "shell.execute_reply": "2022-01-27T17:26:26.138926Z",
     "shell.execute_reply.started": "2022-01-27T17:20:55.695086Z"
    },
    "papermill": {
     "duration": 0.030596,
     "end_time": "2022-01-27T17:26:26.139081",
     "exception": false,
     "start_time": "2022-01-27T17:26:26.108485",
     "status": "completed"
    },
    "tags": []
   },
   "outputs": [
    {
     "data": {
      "application/javascript": [
       "parent.postMessage({\"jupyterEvent\": \"custom.exercise_interaction\", \"data\": {\"outcomeType\": 1, \"valueTowardsCompletion\": 0.25, \"interactionType\": 1, \"questionType\": 1, \"questionId\": \"3_CountMissingPrices\", \"learnToolsVersion\": \"0.3.4\", \"failureMessage\": \"\", \"exceptionClass\": \"\", \"trace\": \"\"}}, \"*\")"
      ],
      "text/plain": [
       "<IPython.core.display.Javascript object>"
      ]
     },
     "metadata": {},
     "output_type": "display_data"
    },
    {
     "data": {
      "text/markdown": [
       "<span style=\"color:#33cc33\">Correct</span>"
      ],
      "text/plain": [
       "Correct"
      ]
     },
     "metadata": {},
     "output_type": "display_data"
    }
   ],
   "source": [
    "n_missing_prices = reviews.price.isnull().sum()\n",
    "# Check your answer\n",
    "q3.check()"
   ]
  },
  {
   "cell_type": "code",
   "execution_count": 7,
   "id": "5809a7d3",
   "metadata": {
    "execution": {
     "iopub.execute_input": "2022-01-27T17:26:26.181939Z",
     "iopub.status.busy": "2022-01-27T17:26:26.181234Z",
     "iopub.status.idle": "2022-01-27T17:26:26.183438Z",
     "shell.execute_reply": "2022-01-27T17:26:26.184015Z",
     "shell.execute_reply.started": "2022-01-27T17:20:58.233865Z"
    },
    "papermill": {
     "duration": 0.025182,
     "end_time": "2022-01-27T17:26:26.184177",
     "exception": false,
     "start_time": "2022-01-27T17:26:26.158995",
     "status": "completed"
    },
    "tags": []
   },
   "outputs": [],
   "source": [
    "#q3.hint()\n",
    "#q3.solution()"
   ]
  },
  {
   "cell_type": "markdown",
   "id": "ee2e4ce7",
   "metadata": {
    "papermill": {
     "duration": 0.019504,
     "end_time": "2022-01-27T17:26:26.223501",
     "exception": false,
     "start_time": "2022-01-27T17:26:26.203997",
     "status": "completed"
    },
    "tags": []
   },
   "source": [
    "## 4.\n",
    "What are the most common wine-producing regions? Create a Series counting the number of times each value occurs in the `region_1` field. This field is often missing data, so replace missing values with `Unknown`. Sort in descending order.  Your output should look something like this:\n",
    "\n",
    "```\n",
    "Unknown                    21247\n",
    "Napa Valley                 4480\n",
    "                           ...  \n",
    "Bardolino Superiore            1\n",
    "Primitivo del Tarantino        1\n",
    "Name: region_1, Length: 1230, dtype: int64\n",
    "```"
   ]
  },
  {
   "cell_type": "code",
   "execution_count": 8,
   "id": "97b5f34e",
   "metadata": {
    "execution": {
     "iopub.execute_input": "2022-01-27T17:26:26.266825Z",
     "iopub.status.busy": "2022-01-27T17:26:26.266105Z",
     "iopub.status.idle": "2022-01-27T17:26:26.299496Z",
     "shell.execute_reply": "2022-01-27T17:26:26.298809Z",
     "shell.execute_reply.started": "2022-01-27T17:22:42.115803Z"
    },
    "papermill": {
     "duration": 0.056101,
     "end_time": "2022-01-27T17:26:26.299707",
     "exception": false,
     "start_time": "2022-01-27T17:26:26.243606",
     "status": "completed"
    },
    "tags": []
   },
   "outputs": [
    {
     "data": {
      "application/javascript": [
       "parent.postMessage({\"jupyterEvent\": \"custom.exercise_interaction\", \"data\": {\"outcomeType\": 1, \"valueTowardsCompletion\": 0.25, \"interactionType\": 1, \"questionType\": 2, \"questionId\": \"4_ReviewsPerRegion\", \"learnToolsVersion\": \"0.3.4\", \"failureMessage\": \"\", \"exceptionClass\": \"\", \"trace\": \"\"}}, \"*\")"
      ],
      "text/plain": [
       "<IPython.core.display.Javascript object>"
      ]
     },
     "metadata": {},
     "output_type": "display_data"
    },
    {
     "data": {
      "text/markdown": [
       "<span style=\"color:#33cc33\">Correct</span>"
      ],
      "text/plain": [
       "Correct"
      ]
     },
     "metadata": {},
     "output_type": "display_data"
    }
   ],
   "source": [
    "reviews_per_region = reviews.region_1.fillna('Unknown').value_counts().sort_values(ascending=False)\n",
    "\n",
    "# Check your answer\n",
    "q4.check()"
   ]
  },
  {
   "cell_type": "code",
   "execution_count": 9,
   "id": "3cd15e4f",
   "metadata": {
    "execution": {
     "iopub.execute_input": "2022-01-27T17:26:26.347278Z",
     "iopub.status.busy": "2022-01-27T17:26:26.346481Z",
     "iopub.status.idle": "2022-01-27T17:26:26.349730Z",
     "shell.execute_reply": "2022-01-27T17:26:26.349122Z",
     "shell.execute_reply.started": "2022-01-27T17:22:45.894104Z"
    },
    "papermill": {
     "duration": 0.02813,
     "end_time": "2022-01-27T17:26:26.349886",
     "exception": false,
     "start_time": "2022-01-27T17:26:26.321756",
     "status": "completed"
    },
    "tags": []
   },
   "outputs": [],
   "source": [
    "#q4.hint()\n",
    "#q4.solution()"
   ]
  },
  {
   "cell_type": "markdown",
   "id": "66a6cd86",
   "metadata": {
    "papermill": {
     "duration": 0.013998,
     "end_time": "2022-01-27T17:26:26.378708",
     "exception": false,
     "start_time": "2022-01-27T17:26:26.364710",
     "status": "completed"
    },
    "tags": []
   },
   "source": [
    "# Keep going\n",
    "\n",
    "Move on to **[renaming and combining](https://www.kaggle.com/residentmario/renaming-and-combining)**."
   ]
  },
  {
   "cell_type": "markdown",
   "id": "97cd9707",
   "metadata": {
    "papermill": {
     "duration": 0.013897,
     "end_time": "2022-01-27T17:26:26.406919",
     "exception": false,
     "start_time": "2022-01-27T17:26:26.393022",
     "status": "completed"
    },
    "tags": []
   },
   "source": [
    "---\n",
    "\n",
    "\n",
    "\n",
    "\n",
    "*Have questions or comments? Visit the [course discussion forum](https://www.kaggle.com/learn/pandas/discussion) to chat with other learners.*"
   ]
  }
 ],
 "metadata": {
  "kernelspec": {
   "display_name": "Python 3",
   "language": "python",
   "name": "python3"
  },
  "language_info": {
   "codemirror_mode": {
    "name": "ipython",
    "version": 3
   },
   "file_extension": ".py",
   "mimetype": "text/x-python",
   "name": "python",
   "nbconvert_exporter": "python",
   "pygments_lexer": "ipython3",
   "version": "3.7.12"
  },
  "papermill": {
   "default_parameters": {},
   "duration": 11.731453,
   "end_time": "2022-01-27T17:26:27.129898",
   "environment_variables": {},
   "exception": null,
   "input_path": "__notebook__.ipynb",
   "output_path": "__notebook__.ipynb",
   "parameters": {},
   "start_time": "2022-01-27T17:26:15.398445",
   "version": "2.3.3"
  }
 },
 "nbformat": 4,
 "nbformat_minor": 5
}
