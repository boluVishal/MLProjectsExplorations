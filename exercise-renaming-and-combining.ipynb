{
 "cells": [
  {
   "cell_type": "markdown",
   "id": "6655460d",
   "metadata": {
    "papermill": {
     "duration": 0.017643,
     "end_time": "2022-01-27T18:00:11.526142",
     "exception": false,
     "start_time": "2022-01-27T18:00:11.508499",
     "status": "completed"
    },
    "tags": []
   },
   "source": [
    "**This notebook is an exercise in the [Pandas](https://www.kaggle.com/learn/pandas) course.  You can reference the tutorial at [this link](https://www.kaggle.com/residentmario/renaming-and-combining).**\n",
    "\n",
    "---\n"
   ]
  },
  {
   "cell_type": "markdown",
   "id": "9ce82211",
   "metadata": {
    "papermill": {
     "duration": 0.01537,
     "end_time": "2022-01-27T18:00:11.557617",
     "exception": false,
     "start_time": "2022-01-27T18:00:11.542247",
     "status": "completed"
    },
    "tags": []
   },
   "source": [
    "# Introduction\n",
    "\n",
    "Run the following cell to load your data and some utility functions."
   ]
  },
  {
   "cell_type": "code",
   "execution_count": 1,
   "id": "e65c3377",
   "metadata": {
    "execution": {
     "iopub.execute_input": "2022-01-27T18:00:11.595239Z",
     "iopub.status.busy": "2022-01-27T18:00:11.593420Z",
     "iopub.status.idle": "2022-01-27T18:00:15.938375Z",
     "shell.execute_reply": "2022-01-27T18:00:15.937684Z",
     "shell.execute_reply.started": "2022-01-27T17:42:14.415325Z"
    },
    "papermill": {
     "duration": 4.36521,
     "end_time": "2022-01-27T18:00:15.938546",
     "exception": false,
     "start_time": "2022-01-27T18:00:11.573336",
     "status": "completed"
    },
    "tags": []
   },
   "outputs": [
    {
     "name": "stdout",
     "output_type": "stream",
     "text": [
      "Setup complete.\n"
     ]
    }
   ],
   "source": [
    "import pandas as pd\n",
    "\n",
    "reviews = pd.read_csv(\"../input/wine-reviews/winemag-data-130k-v2.csv\", index_col=0)\n",
    "\n",
    "from learntools.core import binder; binder.bind(globals())\n",
    "from learntools.pandas.renaming_and_combining import *\n",
    "print(\"Setup complete.\")"
   ]
  },
  {
   "cell_type": "markdown",
   "id": "fb553b34",
   "metadata": {
    "papermill": {
     "duration": 0.015944,
     "end_time": "2022-01-27T18:00:15.971630",
     "exception": false,
     "start_time": "2022-01-27T18:00:15.955686",
     "status": "completed"
    },
    "tags": []
   },
   "source": [
    "# Exercises\n",
    "\n",
    "View the first several lines of your data by running the cell below:"
   ]
  },
  {
   "cell_type": "code",
   "execution_count": 2,
   "id": "0b546a9b",
   "metadata": {
    "execution": {
     "iopub.execute_input": "2022-01-27T18:00:16.007705Z",
     "iopub.status.busy": "2022-01-27T18:00:16.007087Z",
     "iopub.status.idle": "2022-01-27T18:00:16.030708Z",
     "shell.execute_reply": "2022-01-27T18:00:16.031250Z",
     "shell.execute_reply.started": "2022-01-27T17:42:18.830793Z"
    },
    "papermill": {
     "duration": 0.043394,
     "end_time": "2022-01-27T18:00:16.031430",
     "exception": false,
     "start_time": "2022-01-27T18:00:15.988036",
     "status": "completed"
    },
    "tags": []
   },
   "outputs": [
    {
     "data": {
      "text/html": [
       "<div>\n",
       "<style scoped>\n",
       "    .dataframe tbody tr th:only-of-type {\n",
       "        vertical-align: middle;\n",
       "    }\n",
       "\n",
       "    .dataframe tbody tr th {\n",
       "        vertical-align: top;\n",
       "    }\n",
       "\n",
       "    .dataframe thead th {\n",
       "        text-align: right;\n",
       "    }\n",
       "</style>\n",
       "<table border=\"1\" class=\"dataframe\">\n",
       "  <thead>\n",
       "    <tr style=\"text-align: right;\">\n",
       "      <th></th>\n",
       "      <th>country</th>\n",
       "      <th>description</th>\n",
       "      <th>designation</th>\n",
       "      <th>points</th>\n",
       "      <th>price</th>\n",
       "      <th>province</th>\n",
       "      <th>region_1</th>\n",
       "      <th>region_2</th>\n",
       "      <th>taster_name</th>\n",
       "      <th>taster_twitter_handle</th>\n",
       "      <th>title</th>\n",
       "      <th>variety</th>\n",
       "      <th>winery</th>\n",
       "    </tr>\n",
       "  </thead>\n",
       "  <tbody>\n",
       "    <tr>\n",
       "      <th>0</th>\n",
       "      <td>Italy</td>\n",
       "      <td>Aromas include tropical fruit, broom, brimston...</td>\n",
       "      <td>Vulkà Bianco</td>\n",
       "      <td>87</td>\n",
       "      <td>NaN</td>\n",
       "      <td>Sicily &amp; Sardinia</td>\n",
       "      <td>Etna</td>\n",
       "      <td>NaN</td>\n",
       "      <td>Kerin O’Keefe</td>\n",
       "      <td>@kerinokeefe</td>\n",
       "      <td>Nicosia 2013 Vulkà Bianco  (Etna)</td>\n",
       "      <td>White Blend</td>\n",
       "      <td>Nicosia</td>\n",
       "    </tr>\n",
       "    <tr>\n",
       "      <th>1</th>\n",
       "      <td>Portugal</td>\n",
       "      <td>This is ripe and fruity, a wine that is smooth...</td>\n",
       "      <td>Avidagos</td>\n",
       "      <td>87</td>\n",
       "      <td>15.0</td>\n",
       "      <td>Douro</td>\n",
       "      <td>NaN</td>\n",
       "      <td>NaN</td>\n",
       "      <td>Roger Voss</td>\n",
       "      <td>@vossroger</td>\n",
       "      <td>Quinta dos Avidagos 2011 Avidagos Red (Douro)</td>\n",
       "      <td>Portuguese Red</td>\n",
       "      <td>Quinta dos Avidagos</td>\n",
       "    </tr>\n",
       "    <tr>\n",
       "      <th>2</th>\n",
       "      <td>US</td>\n",
       "      <td>Tart and snappy, the flavors of lime flesh and...</td>\n",
       "      <td>NaN</td>\n",
       "      <td>87</td>\n",
       "      <td>14.0</td>\n",
       "      <td>Oregon</td>\n",
       "      <td>Willamette Valley</td>\n",
       "      <td>Willamette Valley</td>\n",
       "      <td>Paul Gregutt</td>\n",
       "      <td>@paulgwine</td>\n",
       "      <td>Rainstorm 2013 Pinot Gris (Willamette Valley)</td>\n",
       "      <td>Pinot Gris</td>\n",
       "      <td>Rainstorm</td>\n",
       "    </tr>\n",
       "    <tr>\n",
       "      <th>3</th>\n",
       "      <td>US</td>\n",
       "      <td>Pineapple rind, lemon pith and orange blossom ...</td>\n",
       "      <td>Reserve Late Harvest</td>\n",
       "      <td>87</td>\n",
       "      <td>13.0</td>\n",
       "      <td>Michigan</td>\n",
       "      <td>Lake Michigan Shore</td>\n",
       "      <td>NaN</td>\n",
       "      <td>Alexander Peartree</td>\n",
       "      <td>NaN</td>\n",
       "      <td>St. Julian 2013 Reserve Late Harvest Riesling ...</td>\n",
       "      <td>Riesling</td>\n",
       "      <td>St. Julian</td>\n",
       "    </tr>\n",
       "    <tr>\n",
       "      <th>4</th>\n",
       "      <td>US</td>\n",
       "      <td>Much like the regular bottling from 2012, this...</td>\n",
       "      <td>Vintner's Reserve Wild Child Block</td>\n",
       "      <td>87</td>\n",
       "      <td>65.0</td>\n",
       "      <td>Oregon</td>\n",
       "      <td>Willamette Valley</td>\n",
       "      <td>Willamette Valley</td>\n",
       "      <td>Paul Gregutt</td>\n",
       "      <td>@paulgwine</td>\n",
       "      <td>Sweet Cheeks 2012 Vintner's Reserve Wild Child...</td>\n",
       "      <td>Pinot Noir</td>\n",
       "      <td>Sweet Cheeks</td>\n",
       "    </tr>\n",
       "  </tbody>\n",
       "</table>\n",
       "</div>"
      ],
      "text/plain": [
       "    country                                        description  \\\n",
       "0     Italy  Aromas include tropical fruit, broom, brimston...   \n",
       "1  Portugal  This is ripe and fruity, a wine that is smooth...   \n",
       "2        US  Tart and snappy, the flavors of lime flesh and...   \n",
       "3        US  Pineapple rind, lemon pith and orange blossom ...   \n",
       "4        US  Much like the regular bottling from 2012, this...   \n",
       "\n",
       "                          designation  points  price           province  \\\n",
       "0                        Vulkà Bianco      87    NaN  Sicily & Sardinia   \n",
       "1                            Avidagos      87   15.0              Douro   \n",
       "2                                 NaN      87   14.0             Oregon   \n",
       "3                Reserve Late Harvest      87   13.0           Michigan   \n",
       "4  Vintner's Reserve Wild Child Block      87   65.0             Oregon   \n",
       "\n",
       "              region_1           region_2         taster_name  \\\n",
       "0                 Etna                NaN       Kerin O’Keefe   \n",
       "1                  NaN                NaN          Roger Voss   \n",
       "2    Willamette Valley  Willamette Valley        Paul Gregutt   \n",
       "3  Lake Michigan Shore                NaN  Alexander Peartree   \n",
       "4    Willamette Valley  Willamette Valley        Paul Gregutt   \n",
       "\n",
       "  taster_twitter_handle                                              title  \\\n",
       "0          @kerinokeefe                  Nicosia 2013 Vulkà Bianco  (Etna)   \n",
       "1            @vossroger      Quinta dos Avidagos 2011 Avidagos Red (Douro)   \n",
       "2           @paulgwine       Rainstorm 2013 Pinot Gris (Willamette Valley)   \n",
       "3                   NaN  St. Julian 2013 Reserve Late Harvest Riesling ...   \n",
       "4           @paulgwine   Sweet Cheeks 2012 Vintner's Reserve Wild Child...   \n",
       "\n",
       "          variety               winery  \n",
       "0     White Blend              Nicosia  \n",
       "1  Portuguese Red  Quinta dos Avidagos  \n",
       "2      Pinot Gris            Rainstorm  \n",
       "3        Riesling           St. Julian  \n",
       "4      Pinot Noir         Sweet Cheeks  "
      ]
     },
     "execution_count": 2,
     "metadata": {},
     "output_type": "execute_result"
    }
   ],
   "source": [
    "reviews.head()"
   ]
  },
  {
   "cell_type": "markdown",
   "id": "8c7c8b1f",
   "metadata": {
    "papermill": {
     "duration": 0.016877,
     "end_time": "2022-01-27T18:00:16.066276",
     "exception": false,
     "start_time": "2022-01-27T18:00:16.049399",
     "status": "completed"
    },
    "tags": []
   },
   "source": [
    "## 1.\n",
    "`region_1` and `region_2` are pretty uninformative names for locale columns in the dataset. Create a copy of `reviews` with these columns renamed to `region` and `locale`, respectively."
   ]
  },
  {
   "cell_type": "code",
   "execution_count": 3,
   "id": "85c4d795",
   "metadata": {
    "execution": {
     "iopub.execute_input": "2022-01-27T18:00:16.106036Z",
     "iopub.status.busy": "2022-01-27T18:00:16.105351Z",
     "iopub.status.idle": "2022-01-27T18:00:16.135828Z",
     "shell.execute_reply": "2022-01-27T18:00:16.136363Z",
     "shell.execute_reply.started": "2022-01-27T17:46:23.634997Z"
    },
    "papermill": {
     "duration": 0.053133,
     "end_time": "2022-01-27T18:00:16.136550",
     "exception": false,
     "start_time": "2022-01-27T18:00:16.083417",
     "status": "completed"
    },
    "tags": []
   },
   "outputs": [
    {
     "data": {
      "application/javascript": [
       "parent.postMessage({\"jupyterEvent\": \"custom.exercise_interaction\", \"data\": {\"outcomeType\": 1, \"valueTowardsCompletion\": 0.25, \"interactionType\": 1, \"questionType\": 1, \"questionId\": \"1_RenameCols\", \"learnToolsVersion\": \"0.3.4\", \"failureMessage\": \"\", \"exceptionClass\": \"\", \"trace\": \"\"}}, \"*\")"
      ],
      "text/plain": [
       "<IPython.core.display.Javascript object>"
      ]
     },
     "metadata": {},
     "output_type": "display_data"
    },
    {
     "data": {
      "text/markdown": [
       "<span style=\"color:#33cc33\">Correct</span>"
      ],
      "text/plain": [
       "Correct"
      ]
     },
     "metadata": {},
     "output_type": "display_data"
    }
   ],
   "source": [
    "# Your code here\n",
    "renamed = reviews.rename(columns=dict(region_1='region', region_2='locale'))\n",
    "\n",
    "# Check your answer\n",
    "q1.check()"
   ]
  },
  {
   "cell_type": "code",
   "execution_count": 4,
   "id": "fe21d280",
   "metadata": {
    "execution": {
     "iopub.execute_input": "2022-01-27T18:00:16.177473Z",
     "iopub.status.busy": "2022-01-27T18:00:16.176675Z",
     "iopub.status.idle": "2022-01-27T18:00:16.179308Z",
     "shell.execute_reply": "2022-01-27T18:00:16.179765Z",
     "shell.execute_reply.started": "2022-01-27T17:46:30.187473Z"
    },
    "papermill": {
     "duration": 0.025268,
     "end_time": "2022-01-27T18:00:16.179957",
     "exception": false,
     "start_time": "2022-01-27T18:00:16.154689",
     "status": "completed"
    },
    "tags": []
   },
   "outputs": [],
   "source": [
    "#q1.hint()\n",
    "#q1.solution()"
   ]
  },
  {
   "cell_type": "markdown",
   "id": "ade497a8",
   "metadata": {
    "papermill": {
     "duration": 0.017653,
     "end_time": "2022-01-27T18:00:16.215702",
     "exception": false,
     "start_time": "2022-01-27T18:00:16.198049",
     "status": "completed"
    },
    "tags": []
   },
   "source": [
    "## 2.\n",
    "Set the index name in the dataset to `wines`."
   ]
  },
  {
   "cell_type": "code",
   "execution_count": 5,
   "id": "1b8139cd",
   "metadata": {
    "execution": {
     "iopub.execute_input": "2022-01-27T18:00:16.283166Z",
     "iopub.status.busy": "2022-01-27T18:00:16.256497Z",
     "iopub.status.idle": "2022-01-27T18:00:16.288232Z",
     "shell.execute_reply": "2022-01-27T18:00:16.287667Z",
     "shell.execute_reply.started": "2022-01-27T17:48:43.849103Z"
    },
    "papermill": {
     "duration": 0.054687,
     "end_time": "2022-01-27T18:00:16.288384",
     "exception": false,
     "start_time": "2022-01-27T18:00:16.233697",
     "status": "completed"
    },
    "tags": []
   },
   "outputs": [
    {
     "data": {
      "application/javascript": [
       "parent.postMessage({\"jupyterEvent\": \"custom.exercise_interaction\", \"data\": {\"outcomeType\": 1, \"valueTowardsCompletion\": 0.25, \"interactionType\": 1, \"questionType\": 1, \"questionId\": \"2_RenameIndex\", \"learnToolsVersion\": \"0.3.4\", \"failureMessage\": \"\", \"exceptionClass\": \"\", \"trace\": \"\"}}, \"*\")"
      ],
      "text/plain": [
       "<IPython.core.display.Javascript object>"
      ]
     },
     "metadata": {},
     "output_type": "display_data"
    },
    {
     "data": {
      "text/markdown": [
       "<span style=\"color:#33cc33\">Correct</span>"
      ],
      "text/plain": [
       "Correct"
      ]
     },
     "metadata": {},
     "output_type": "display_data"
    }
   ],
   "source": [
    "reindexed = reviews.rename_axis('wines', axis='rows')\n",
    "\n",
    "# Check your answer\n",
    "q2.check()"
   ]
  },
  {
   "cell_type": "code",
   "execution_count": 6,
   "id": "baa0a199",
   "metadata": {
    "execution": {
     "iopub.execute_input": "2022-01-27T18:00:16.329365Z",
     "iopub.status.busy": "2022-01-27T18:00:16.328752Z",
     "iopub.status.idle": "2022-01-27T18:00:16.331586Z",
     "shell.execute_reply": "2022-01-27T18:00:16.332124Z",
     "shell.execute_reply.started": "2022-01-27T17:48:55.978619Z"
    },
    "papermill": {
     "duration": 0.024539,
     "end_time": "2022-01-27T18:00:16.332290",
     "exception": false,
     "start_time": "2022-01-27T18:00:16.307751",
     "status": "completed"
    },
    "tags": []
   },
   "outputs": [],
   "source": [
    "#q2.hint()\n",
    "#q2.solution()"
   ]
  },
  {
   "cell_type": "markdown",
   "id": "c73f5029",
   "metadata": {
    "papermill": {
     "duration": 0.018345,
     "end_time": "2022-01-27T18:00:16.369447",
     "exception": false,
     "start_time": "2022-01-27T18:00:16.351102",
     "status": "completed"
    },
    "tags": []
   },
   "source": [
    "## 3.\n",
    "The [Things on Reddit](https://www.kaggle.com/residentmario/things-on-reddit/data) dataset includes product links from a selection of top-ranked forums (\"subreddits\") on reddit.com. Run the cell below to load a dataframe of products mentioned on the */r/gaming* subreddit and another dataframe for products mentioned on the *r//movies* subreddit."
   ]
  },
  {
   "cell_type": "code",
   "execution_count": 7,
   "id": "f97ddb17",
   "metadata": {
    "execution": {
     "iopub.execute_input": "2022-01-27T18:00:16.409913Z",
     "iopub.status.busy": "2022-01-27T18:00:16.409326Z",
     "iopub.status.idle": "2022-01-27T18:00:16.425410Z",
     "shell.execute_reply": "2022-01-27T18:00:16.424839Z",
     "shell.execute_reply.started": "2022-01-27T17:49:01.832190Z"
    },
    "papermill": {
     "duration": 0.03743,
     "end_time": "2022-01-27T18:00:16.425559",
     "exception": false,
     "start_time": "2022-01-27T18:00:16.388129",
     "status": "completed"
    },
    "tags": []
   },
   "outputs": [],
   "source": [
    "gaming_products = pd.read_csv(\"../input/things-on-reddit/top-things/top-things/reddits/g/gaming.csv\")\n",
    "gaming_products['subreddit'] = \"r/gaming\"\n",
    "movie_products = pd.read_csv(\"../input/things-on-reddit/top-things/top-things/reddits/m/movies.csv\")\n",
    "movie_products['subreddit'] = \"r/movies\""
   ]
  },
  {
   "cell_type": "markdown",
   "id": "29fe9c0b",
   "metadata": {
    "papermill": {
     "duration": 0.018544,
     "end_time": "2022-01-27T18:00:16.463101",
     "exception": false,
     "start_time": "2022-01-27T18:00:16.444557",
     "status": "completed"
    },
    "tags": []
   },
   "source": [
    "Create a `DataFrame` of products mentioned on *either* subreddit."
   ]
  },
  {
   "cell_type": "code",
   "execution_count": 8,
   "id": "6daaa094",
   "metadata": {
    "execution": {
     "iopub.execute_input": "2022-01-27T18:00:16.506480Z",
     "iopub.status.busy": "2022-01-27T18:00:16.505158Z",
     "iopub.status.idle": "2022-01-27T18:00:16.516409Z",
     "shell.execute_reply": "2022-01-27T18:00:16.516895Z",
     "shell.execute_reply.started": "2022-01-27T17:51:32.859054Z"
    },
    "papermill": {
     "duration": 0.035386,
     "end_time": "2022-01-27T18:00:16.517116",
     "exception": false,
     "start_time": "2022-01-27T18:00:16.481730",
     "status": "completed"
    },
    "tags": []
   },
   "outputs": [
    {
     "data": {
      "application/javascript": [
       "parent.postMessage({\"jupyterEvent\": \"custom.exercise_interaction\", \"data\": {\"outcomeType\": 1, \"valueTowardsCompletion\": 0.25, \"interactionType\": 1, \"questionType\": 2, \"questionId\": \"3_ConcatReddit\", \"learnToolsVersion\": \"0.3.4\", \"failureMessage\": \"\", \"exceptionClass\": \"\", \"trace\": \"\"}}, \"*\")"
      ],
      "text/plain": [
       "<IPython.core.display.Javascript object>"
      ]
     },
     "metadata": {},
     "output_type": "display_data"
    },
    {
     "data": {
      "text/markdown": [
       "<span style=\"color:#33cc33\">Correct</span>"
      ],
      "text/plain": [
       "Correct"
      ]
     },
     "metadata": {},
     "output_type": "display_data"
    }
   ],
   "source": [
    "combined_products = pd.concat([gaming_products,movie_products])\n",
    "\n",
    "# Check your answer\n",
    "q3.check()"
   ]
  },
  {
   "cell_type": "code",
   "execution_count": 9,
   "id": "a2aa5997",
   "metadata": {
    "execution": {
     "iopub.execute_input": "2022-01-27T18:00:16.561013Z",
     "iopub.status.busy": "2022-01-27T18:00:16.560354Z",
     "iopub.status.idle": "2022-01-27T18:00:16.562153Z",
     "shell.execute_reply": "2022-01-27T18:00:16.562724Z"
    },
    "papermill": {
     "duration": 0.025876,
     "end_time": "2022-01-27T18:00:16.562885",
     "exception": false,
     "start_time": "2022-01-27T18:00:16.537009",
     "status": "completed"
    },
    "tags": []
   },
   "outputs": [],
   "source": [
    "#q3.hint()\n",
    "#q3.solution()"
   ]
  },
  {
   "cell_type": "markdown",
   "id": "57dfed1b",
   "metadata": {
    "papermill": {
     "duration": 0.019512,
     "end_time": "2022-01-27T18:00:16.602491",
     "exception": false,
     "start_time": "2022-01-27T18:00:16.582979",
     "status": "completed"
    },
    "tags": []
   },
   "source": [
    "## 4.\n",
    "The [Powerlifting Database](https://www.kaggle.com/open-powerlifting/powerlifting-database) dataset on Kaggle includes one CSV table for powerlifting meets and a separate one for powerlifting competitors. Run the cell below to load these datasets into dataframes:"
   ]
  },
  {
   "cell_type": "code",
   "execution_count": 10,
   "id": "f692d9a8",
   "metadata": {
    "execution": {
     "iopub.execute_input": "2022-01-27T18:00:16.646964Z",
     "iopub.status.busy": "2022-01-27T18:00:16.646341Z",
     "iopub.status.idle": "2022-01-27T18:00:17.516762Z",
     "shell.execute_reply": "2022-01-27T18:00:17.516167Z",
     "shell.execute_reply.started": "2022-01-27T17:55:33.424167Z"
    },
    "papermill": {
     "duration": 0.89452,
     "end_time": "2022-01-27T18:00:17.516910",
     "exception": false,
     "start_time": "2022-01-27T18:00:16.622390",
     "status": "completed"
    },
    "tags": []
   },
   "outputs": [],
   "source": [
    "powerlifting_meets = pd.read_csv(\"../input/powerlifting-database/meets.csv\")\n",
    "powerlifting_competitors = pd.read_csv(\"../input/powerlifting-database/openpowerlifting.csv\")"
   ]
  },
  {
   "cell_type": "markdown",
   "id": "f87c4913",
   "metadata": {
    "papermill": {
     "duration": 0.021183,
     "end_time": "2022-01-27T18:00:17.558385",
     "exception": false,
     "start_time": "2022-01-27T18:00:17.537202",
     "status": "completed"
    },
    "tags": []
   },
   "source": [
    "Both tables include references to a `MeetID`, a unique key for each meet (competition) included in the database. Using this, generate a dataset combining the two tables into one."
   ]
  },
  {
   "cell_type": "code",
   "execution_count": 11,
   "id": "cd529931",
   "metadata": {
    "execution": {
     "iopub.execute_input": "2022-01-27T18:00:17.604166Z",
     "iopub.status.busy": "2022-01-27T18:00:17.603428Z",
     "iopub.status.idle": "2022-01-27T18:00:18.688964Z",
     "shell.execute_reply": "2022-01-27T18:00:18.688359Z",
     "shell.execute_reply.started": "2022-01-27T17:59:22.897031Z"
    },
    "papermill": {
     "duration": 1.109898,
     "end_time": "2022-01-27T18:00:18.689139",
     "exception": false,
     "start_time": "2022-01-27T18:00:17.579241",
     "status": "completed"
    },
    "tags": []
   },
   "outputs": [
    {
     "data": {
      "application/javascript": [
       "parent.postMessage({\"jupyterEvent\": \"custom.exercise_interaction\", \"data\": {\"outcomeType\": 1, \"valueTowardsCompletion\": 0.25, \"interactionType\": 1, \"questionType\": 2, \"questionId\": \"4_JoinLifting\", \"learnToolsVersion\": \"0.3.4\", \"failureMessage\": \"\", \"exceptionClass\": \"\", \"trace\": \"\"}}, \"*\")"
      ],
      "text/plain": [
       "<IPython.core.display.Javascript object>"
      ]
     },
     "metadata": {},
     "output_type": "display_data"
    },
    {
     "data": {
      "text/markdown": [
       "<span style=\"color:#33cc33\">Correct</span>"
      ],
      "text/plain": [
       "Correct"
      ]
     },
     "metadata": {},
     "output_type": "display_data"
    }
   ],
   "source": [
    "powerlifting_combined = powerlifting_meets.set_index(\"MeetID\").join(powerlifting_competitors.set_index(\"MeetID\"))\n",
    "q4.check()"
   ]
  },
  {
   "cell_type": "code",
   "execution_count": 12,
   "id": "a5641d27",
   "metadata": {
    "execution": {
     "iopub.execute_input": "2022-01-27T18:00:18.736662Z",
     "iopub.status.busy": "2022-01-27T18:00:18.735930Z",
     "iopub.status.idle": "2022-01-27T18:00:18.739172Z",
     "shell.execute_reply": "2022-01-27T18:00:18.738625Z",
     "shell.execute_reply.started": "2022-01-27T17:59:28.423683Z"
    },
    "papermill": {
     "duration": 0.028681,
     "end_time": "2022-01-27T18:00:18.739330",
     "exception": false,
     "start_time": "2022-01-27T18:00:18.710649",
     "status": "completed"
    },
    "tags": []
   },
   "outputs": [],
   "source": [
    "#q4.hint()\n",
    "#q4.solution()"
   ]
  },
  {
   "cell_type": "markdown",
   "id": "0c72cae4",
   "metadata": {
    "papermill": {
     "duration": 0.021341,
     "end_time": "2022-01-27T18:00:18.781722",
     "exception": false,
     "start_time": "2022-01-27T18:00:18.760381",
     "status": "completed"
    },
    "tags": []
   },
   "source": [
    "# Congratulations!\n",
    "\n",
    "You've finished the Pandas micro-course.  Many data scientists feel efficiency with Pandas is the most useful and practical skill they have, because it allows you to progress quickly in any project you have.\n",
    "\n",
    "If you'd like to apply your new skills to examining geospatial data, you're encouraged to check out our **[Geospatial Analysis](https://www.kaggle.com/learn/geospatial-analysis)** micro-course.\n",
    "\n",
    "You can also take advantage of your Pandas skills by entering a **[Kaggle Competition](https://www.kaggle.com/competitions)** or by answering a question you find interesting using **[Kaggle Datasets](https://www.kaggle.com/datasets)**."
   ]
  },
  {
   "cell_type": "markdown",
   "id": "0c368d2b",
   "metadata": {
    "papermill": {
     "duration": 0.021831,
     "end_time": "2022-01-27T18:00:18.824466",
     "exception": false,
     "start_time": "2022-01-27T18:00:18.802635",
     "status": "completed"
    },
    "tags": []
   },
   "source": [
    "---\n",
    "\n",
    "\n",
    "\n",
    "\n",
    "*Have questions or comments? Visit the [course discussion forum](https://www.kaggle.com/learn/pandas/discussion) to chat with other learners.*"
   ]
  }
 ],
 "metadata": {
  "kernelspec": {
   "display_name": "Python 3",
   "language": "python",
   "name": "python3"
  },
  "language_info": {
   "codemirror_mode": {
    "name": "ipython",
    "version": 3
   },
   "file_extension": ".py",
   "mimetype": "text/x-python",
   "name": "python",
   "nbconvert_exporter": "python",
   "pygments_lexer": "ipython3",
   "version": "3.7.12"
  },
  "papermill": {
   "default_parameters": {},
   "duration": 18.454197,
   "end_time": "2022-01-27T18:00:19.555581",
   "environment_variables": {},
   "exception": null,
   "input_path": "__notebook__.ipynb",
   "output_path": "__notebook__.ipynb",
   "parameters": {},
   "start_time": "2022-01-27T18:00:01.101384",
   "version": "2.3.3"
  }
 },
 "nbformat": 4,
 "nbformat_minor": 5
}
